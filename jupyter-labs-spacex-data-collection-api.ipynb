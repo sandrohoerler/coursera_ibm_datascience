{
 "cells": [
  {
   "metadata": {},
   "cell_type": "markdown",
   "source": [
    "<p style=\"text-align:center\">\n",
    "    <a href=\"https://skills.network/?utm_medium=Exinfluencer&utm_source=Exinfluencer&utm_content=000026UJ&utm_term=10006555&utm_id=NA-SkillsNetwork-Channel-SkillsNetworkCoursesIBMDS0321ENSkillsNetwork865-2022-01-01\" target=\"_blank\">\n",
    "    <img src=\"https://cf-courses-data.s3.us.cloud-object-storage.appdomain.cloud/assets/logos/SN_web_lightmode.png\" width=\"200\" alt=\"Skills Network Logo\"  />\n",
    "    </a>\n",
    "</p>\n"
   ]
  },
  {
   "metadata": {},
   "cell_type": "markdown",
   "source": [
    "# **SpaceX  Falcon 9 first stage Landing Prediction**\n"
   ]
  },
  {
   "metadata": {},
   "cell_type": "markdown",
   "source": [
    "# Lab 1: Collecting the data\n"
   ]
  },
  {
   "metadata": {},
   "cell_type": "markdown",
   "source": [
    "Estimated time needed: **45** minutes\n"
   ]
  },
  {
   "metadata": {},
   "cell_type": "markdown",
   "source": [
    "In this capstone, we will predict if the Falcon 9 first stage will land successfully. SpaceX advertises Falcon 9 rocket launches on its website with a cost of 62 million dollars; other providers cost upward of 165 million dollars each, much of the savings is because SpaceX can reuse the first stage. Therefore if we can determine if the first stage will land, we can determine the cost of a launch. This information can be used if an alternate company wants to bid against SpaceX for a rocket launch. In this lab, you will collect and make sure the data is in the correct format from an API. The following is an example of a successful and launch.\n"
   ]
  },
  {
   "metadata": {},
   "cell_type": "markdown",
   "source": [
    "![](https://cf-courses-data.s3.us.cloud-object-storage.appdomain.cloud/IBMDeveloperSkillsNetwork-DS0701EN-SkillsNetwork/lab_v2/images/landing_1.gif)\n"
   ]
  },
  {
   "metadata": {},
   "cell_type": "markdown",
   "source": [
    "Several examples of an unsuccessful landing are shown here:\n"
   ]
  },
  {
   "metadata": {},
   "cell_type": "markdown",
   "source": [
    "![](https://cf-courses-data.s3.us.cloud-object-storage.appdomain.cloud/IBMDeveloperSkillsNetwork-DS0701EN-SkillsNetwork/lab_v2/images/crash.gif)\n"
   ]
  },
  {
   "metadata": {},
   "cell_type": "markdown",
   "source": [
    "Most unsuccessful landings are planned. Space X performs a controlled landing in the oceans. \n"
   ]
  },
  {
   "metadata": {},
   "cell_type": "markdown",
   "source": [
    "## Objectives\n"
   ]
  },
  {
   "metadata": {},
   "cell_type": "markdown",
   "source": [
    "In this lab, you will make a get request to the SpaceX API. You will also do some basic data wrangling and formating. \n",
    "\n",
    "- Request to the SpaceX API\n",
    "- Clean the requested data\n"
   ]
  },
  {
   "metadata": {},
   "cell_type": "markdown",
   "source": [
    "----\n"
   ]
  },
  {
   "metadata": {},
   "cell_type": "markdown",
   "source": [
    "## Import Libraries and Define Auxiliary Functions\n"
   ]
  },
  {
   "metadata": {},
   "cell_type": "markdown",
   "source": [
    "We will import the following libraries into the lab\n"
   ]
  },
  {
   "metadata": {},
   "cell_type": "code",
   "source": [
    "# Requests allows us to make HTTP requests which we will use to get data from an API\n",
    "import requests\n",
    "# Pandas is a software library written for the Python programming language for data manipulation and analysis.\n",
    "import pandas as pd\n",
    "# NumPy is a library for the Python programming language, adding support for large, multi-dimensional arrays and matrices, along with a large collection of high-level mathematical functions to operate on these arrays\n",
    "import numpy as np\n",
    "# Datetime is a library that allows us to represent dates\n",
    "import datetime\n",
    "\n",
    "# Setting this option will print all collumns of a dataframe\n",
    "pd.set_option('display.max_columns', None)\n",
    "# Setting this option will print all of the data in a feature\n",
    "pd.set_option('display.max_colwidth', None)"
   ],
   "execution_count": 14,
   "outputs": []
  },
  {
   "metadata": {},
   "cell_type": "markdown",
   "source": [
    "Below we will define a series of helper functions that will help us use the API to extract information using identification numbers in the launch data.\n",
    "\n",
    "From the <code>rocket</code> column we would like to learn the booster name.\n"
   ]
  },
  {
   "metadata": {},
   "cell_type": "code",
   "source": [
    "# Takes the dataset and uses the rocket column to call the API and append the data to the list\n",
    "def getBoosterVersion(data):\n",
    "    for x in data['rocket']:\n",
    "       if x:\n",
    "        print(f\"Rocket: {x}\")\n",
    "        response = requests.get(\"https://api.spacexdata.com/v4/rockets/\"+str(x)).json()\n",
    "        BoosterVersion.append(response['name'])"
   ],
   "execution_count": 15,
   "outputs": []
  },
  {
   "metadata": {},
   "cell_type": "markdown",
   "source": [
    "From the <code>launchpad</code> we would like to know the name of the launch site being used, the logitude, and the latitude.\n"
   ]
  },
  {
   "metadata": {},
   "cell_type": "code",
   "source": [
    "# Takes the dataset and uses the launchpad column to call the API and append the data to the list\n",
    "def getLaunchSite(data):\n",
    "    for x in data['launchpad']:\n",
    "       if x:\n",
    "         print(f\"Launchpad {x}\")\n",
    "         response = requests.get(\"https://api.spacexdata.com/v4/launchpads/\"+str(x)).json()\n",
    "         Longitude.append(response['longitude'])\n",
    "         Latitude.append(response['latitude'])\n",
    "         LaunchSite.append(response['name'])"
   ],
   "execution_count": 16,
   "outputs": []
  },
  {
   "metadata": {},
   "cell_type": "markdown",
   "source": [
    "From the <code>payload</code> we would like to learn the mass of the payload and the orbit that it is going to.\n"
   ]
  },
  {
   "metadata": {},
   "cell_type": "code",
   "source": [
    "# Takes the dataset and uses the payloads column to call the API and append the data to the lists\n",
    "def getPayloadData(data):\n",
    "    for load in data['payloads']:\n",
    "       if load:\n",
    "        print(f\"Payload: {load}\")\n",
    "        response = requests.get(\"https://api.spacexdata.com/v4/payloads/\"+load).json()\n",
    "        PayloadMass.append(response['mass_kg'])\n",
    "        Orbit.append(response['orbit'])"
   ],
   "execution_count": 17,
   "outputs": []
  },
  {
   "metadata": {},
   "cell_type": "markdown",
   "source": [
    "From <code>cores</code> we would like to learn the outcome of the landing, the type of the landing, number of flights with that core, whether gridfins were used, wheter the core is reused, wheter legs were used, the landing pad used, the block of the core which is a number used to seperate version of cores, the number of times this specific core has been reused, and the serial of the core.\n"
   ]
  },
  {
   "metadata": {},
   "cell_type": "code",
   "source": [
    "# Takes the dataset and uses the cores column to call the API and append the data to the lists\n",
    "def getCoreData(data):\n",
    "    for core in data['cores']:\n",
    "            if core['core'] != None:\n",
    "                print(f\"Core: {core['core']}\")\n",
    "                response = requests.get(\"https://api.spacexdata.com/v4/cores/\"+core['core']).json()\n",
    "                Block.append(response['block'])\n",
    "                ReusedCount.append(response['reuse_count'])\n",
    "                Serial.append(response['serial'])\n",
    "            else:\n",
    "                Block.append(None)\n",
    "                ReusedCount.append(None)\n",
    "                Serial.append(None)\n",
    "            Outcome.append(str(core['landing_success'])+' '+str(core['landing_type']))\n",
    "            Flights.append(core['flight'])\n",
    "            GridFins.append(core['gridfins'])\n",
    "            Reused.append(core['reused'])\n",
    "            Legs.append(core['legs'])\n",
    "            LandingPad.append(core['landpad'])"
   ],
   "execution_count": 18,
   "outputs": []
  },
  {
   "metadata": {},
   "cell_type": "markdown",
   "source": [
    "Now let's start requesting rocket launch data from SpaceX API with the following URL:\n"
   ]
  },
  {
   "metadata": {},
   "cell_type": "code",
   "source": [
    "spacex_url=\"https://api.spacexdata.com/v4/launches/past\""
   ],
   "execution_count": 19,
   "outputs": []
  },
  {
   "metadata": {},
   "cell_type": "code",
   "source": [
    "response = requests.get(spacex_url)"
   ],
   "execution_count": 20,
   "outputs": []
  },
  {
   "metadata": {},
   "cell_type": "markdown",
   "source": [
    "Check the content of the response\n"
   ]
  },
  {
   "metadata": {},
   "cell_type": "markdown",
   "source": [
    "You should see the response contains massive information about SpaceX launches. Next, let's try to discover some more relevant information for this project.\n"
   ]
  },
  {
   "metadata": {},
   "cell_type": "markdown",
   "source": [
    "### Task 1: Request and parse the SpaceX launch data using the GET request\n"
   ]
  },
  {
   "metadata": {},
   "cell_type": "markdown",
   "source": [
    "To make the requested JSON results more consistent, we will use the following static response object for this project:\n"
   ]
  },
  {
   "metadata": {},
   "cell_type": "code",
   "source": [
    "static_json_url='https://cf-courses-data.s3.us.cloud-object-storage.appdomain.cloud/IBM-DS0321EN-SkillsNetwork/datasets/API_call_spacex_api.json'"
   ],
   "execution_count": 21,
   "outputs": []
  },
  {
   "metadata": {},
   "cell_type": "markdown",
   "source": [
    "We should see that the request was successfull with the 200 status response code\n"
   ]
  },
  {
   "metadata": {},
   "cell_type": "code",
   "source": [
    "response.status_code"
   ],
   "execution_count": 22,
   "outputs": [
    {
     "output_type": "execute_result",
     "execution_count": 22,
     "data": {
      "text/plain": "200"
     },
     "metadata": {}
    }
   ]
  },
  {
   "metadata": {},
   "cell_type": "markdown",
   "source": [
    "Now we decode the response content as a Json using <code>.json()</code> and turn it into a Pandas dataframe using <code>.json_normalize()</code>\n"
   ]
  },
  {
   "metadata": {},
   "cell_type": "code",
   "source": [
    "# Use json_normalize meethod to convert the json result into a dataframe\n",
    "response_json = response.json()\n",
    "launch_df = pd.json_normalize(response_json)"
   ],
   "execution_count": 23,
   "outputs": []
  },
  {
   "metadata": {},
   "cell_type": "markdown",
   "source": [
    "Using the dataframe <code>data</code> print the first 5 rows\n"
   ]
  },
  {
   "metadata": {},
   "cell_type": "code",
   "source": [
    "# Get the head of the dataframe\n",
    "print(launch_df.head(10))\n",
    "launch_df.describe()\n",
    "data = launch_df"
   ],
   "execution_count": 24,
   "outputs": [
    {
     "output_type": "stream",
     "text": "       static_fire_date_utc  static_fire_date_unix    net  window  \\\n0  2006-03-17T00:00:00.000Z           1.142554e+09  False     0.0   \n1                      None                    NaN  False     0.0   \n2                      None                    NaN  False     0.0   \n3  2008-09-20T00:00:00.000Z           1.221869e+09  False     0.0   \n4                      None                    NaN  False     0.0   \n5  2010-03-13T00:00:00.000Z           1.268438e+09  False     0.0   \n6  2010-12-04T00:00:00.000Z           1.291421e+09  False     0.0   \n7  2012-04-30T00:00:00.000Z           1.335744e+09  False     0.0   \n8  2012-09-29T00:00:00.000Z           1.348877e+09  False     0.0   \n9  2013-02-25T18:30:00.000Z           1.361817e+09  False     0.0   \n\n                     rocket success  \\\n0  5e9d0d95eda69955f709d1eb   False   \n1  5e9d0d95eda69955f709d1eb   False   \n2  5e9d0d95eda69955f709d1eb   False   \n3  5e9d0d95eda69955f709d1eb    True   \n4  5e9d0d95eda69955f709d1eb    True   \n5  5e9d0d95eda69973a809d1ec    True   \n6  5e9d0d95eda69973a809d1ec    True   \n7  5e9d0d95eda69973a809d1ec    True   \n8  5e9d0d95eda69973a809d1ec    True   \n9  5e9d0d95eda69973a809d1ec    True   \n\n                                                                                                            failures  \\\n0                                                [{'time': 33, 'altitude': None, 'reason': 'merlin engine failure'}]   \n1            [{'time': 301, 'altitude': 289, 'reason': 'harmonic oscillation leading to premature engine shutdown'}]   \n2  [{'time': 140, 'altitude': 35, 'reason': 'residual stage-1 thrust led to collision between stage 1 and stage 2'}]   \n3                                                                                                                 []   \n4                                                                                                                 []   \n5                                                                                                                 []   \n6                                                                                                                 []   \n7                                                                                                                 []   \n8                                                                                                                 []   \n9                                                                                                                 []   \n\n                                                                                                                                                                                                                                                                                                details  \\\n0                                                                                                                                                                                                                                                      Engine failure at 33 seconds and loss of vehicle   \n1                                                                                                                  Successful first stage burn and transition to second stage, maximum altitude 289 km, Premature engine shutdown at T+7 min 30 s, Failed to reach orbit, Failed to recover first stage   \n2                                                                                                                                                                                                                                  Residual stage 1 thrust led to collision between stage 1 and stage 2   \n3                                                                                                                                        Ratsat was carried to orbit on the first successful orbital launch of any privately funded and developed, liquid-propelled carrier rocket, the SpaceX Falcon 1   \n4                                                                                                                                                                                                                                                                                                  None   \n5                                                                                                                                                                                                                                                                                                  None   \n6                                                                                                                                                                                                                                                                                                  None   \n7                                                                                                                                                                                                                            Launch was scrubbed on first attempt, second launch attempt was successful   \n8  CRS-1 successful, but the secondary payload was inserted into abnormally low orbit and lost due to Falcon 9 boost stage engine failure, ISS visiting vehicle safety rules, and the primary payload owner's contractual right to decline a second ignition of the second stage under some conditions.   \n9                                                                                                                                                                                                                                              Last launch of the original Falcon 9 v1.0 launch vehicle   \n\n  crew                       ships                    capsules  \\\n0   []                          []                          []   \n1   []                          []                          []   \n2   []                          []                          []   \n3   []                          []                          []   \n4   []                          []                          []   \n5   []                          []                          []   \n6   []  [5ea6ed2d080df4000697c901]  [5e9e2c5bf35918ed873b2664]   \n7   []  [5ea6ed2d080df4000697c901]  [5e9e2c5bf3591882af3b2665]   \n8   []  [5ea6ed2d080df4000697c902]  [5e9e2c5bf3591835983b2666]   \n9   []  [5ea6ed2d080df4000697c902]  [5e9e2c5bf359189ef23b2667]   \n\n                                               payloads  \\\n0                            [5eb0e4b5b6c3bb0006eeb1e1]   \n1                            [5eb0e4b6b6c3bb0006eeb1e2]   \n2  [5eb0e4b6b6c3bb0006eeb1e3, 5eb0e4b6b6c3bb0006eeb1e4]   \n3                            [5eb0e4b7b6c3bb0006eeb1e5]   \n4                            [5eb0e4b7b6c3bb0006eeb1e6]   \n5                            [5eb0e4b7b6c3bb0006eeb1e7]   \n6  [5eb0e4b9b6c3bb0006eeb1e8, 5eb0e4b9b6c3bb0006eeb1e9]   \n7                            [5eb0e4bab6c3bb0006eeb1ea]   \n8  [5eb0e4bab6c3bb0006eeb1eb, 5eb0e4bab6c3bb0006eeb1ec]   \n9                            [5eb0e4bbb6c3bb0006eeb1ed]   \n\n                  launchpad  flight_number                  name  \\\n0  5e9e4502f5090995de566f86              1             FalconSat   \n1  5e9e4502f5090995de566f86              2               DemoSat   \n2  5e9e4502f5090995de566f86              3           Trailblazer   \n3  5e9e4502f5090995de566f86              4                RatSat   \n4  5e9e4502f5090995de566f86              5              RazakSat   \n5  5e9e4501f509094ba4566f84              6  Falcon 9 Test Flight   \n6  5e9e4501f509094ba4566f84              7                COTS 1   \n7  5e9e4501f509094ba4566f84              8                COTS 2   \n8  5e9e4501f509094ba4566f84              9                 CRS-1   \n9  5e9e4501f509094ba4566f84             10                 CRS-2   \n\n                   date_utc   date_unix                 date_local  \\\n0  2006-03-24T22:30:00.000Z  1143239400  2006-03-25T10:30:00+12:00   \n1  2007-03-21T01:10:00.000Z  1174439400  2007-03-21T13:10:00+12:00   \n2  2008-08-03T03:34:00.000Z  1217734440  2008-08-03T15:34:00+12:00   \n3  2008-09-28T23:15:00.000Z  1222643700  2008-09-28T11:15:00+12:00   \n4  2009-07-13T03:35:00.000Z  1247456100  2009-07-13T15:35:00+12:00   \n5  2010-06-04T18:45:00.000Z  1275677100  2010-06-04T14:45:00-04:00   \n6  2010-12-08T15:43:00.000Z  1291822980  2010-12-08T11:43:00-04:00   \n7  2012-05-22T07:44:00.000Z  1335944640  2012-05-22T03:44:00-04:00   \n8  2012-10-08T00:35:00.000Z  1349656500  2012-10-08T20:35:00-04:00   \n9  2013-03-01T19:10:00.000Z  1362165000  2013-03-01T15:10:00-04:00   \n\n  date_precision  upcoming  \\\n0           hour     False   \n1           hour     False   \n2           hour     False   \n3           hour     False   \n4           hour     False   \n5           hour     False   \n6           hour     False   \n7           hour     False   \n8           hour     False   \n9           hour     False   \n\n                                                                                                                                                                                              cores  \\\n0  [{'core': '5e9e289df35918033d3b2623', 'flight': 1, 'gridfins': False, 'legs': False, 'reused': False, 'landing_attempt': False, 'landing_success': None, 'landing_type': None, 'landpad': None}]   \n1  [{'core': '5e9e289ef35918416a3b2624', 'flight': 1, 'gridfins': False, 'legs': False, 'reused': False, 'landing_attempt': False, 'landing_success': None, 'landing_type': None, 'landpad': None}]   \n2  [{'core': '5e9e289ef3591814873b2625', 'flight': 1, 'gridfins': False, 'legs': False, 'reused': False, 'landing_attempt': False, 'landing_success': None, 'landing_type': None, 'landpad': None}]   \n3  [{'core': '5e9e289ef3591855dc3b2626', 'flight': 1, 'gridfins': False, 'legs': False, 'reused': False, 'landing_attempt': False, 'landing_success': None, 'landing_type': None, 'landpad': None}]   \n4  [{'core': '5e9e289ef359184f103b2627', 'flight': 1, 'gridfins': False, 'legs': False, 'reused': False, 'landing_attempt': False, 'landing_success': None, 'landing_type': None, 'landpad': None}]   \n5  [{'core': '5e9e289ef359185f2b3b2628', 'flight': 1, 'gridfins': False, 'legs': False, 'reused': False, 'landing_attempt': False, 'landing_success': None, 'landing_type': None, 'landpad': None}]   \n6  [{'core': '5e9e289ef35918187c3b2629', 'flight': 1, 'gridfins': False, 'legs': False, 'reused': False, 'landing_attempt': False, 'landing_success': None, 'landing_type': None, 'landpad': None}]   \n7  [{'core': '5e9e289ef35918f39c3b262a', 'flight': 1, 'gridfins': False, 'legs': False, 'reused': False, 'landing_attempt': False, 'landing_success': None, 'landing_type': None, 'landpad': None}]   \n8  [{'core': '5e9e289ff3591821a73b262b', 'flight': 1, 'gridfins': False, 'legs': False, 'reused': False, 'landing_attempt': False, 'landing_success': None, 'landing_type': None, 'landpad': None}]   \n9  [{'core': '5e9e289ff3591884e03b262c', 'flight': 1, 'gridfins': False, 'legs': False, 'reused': False, 'landing_attempt': False, 'landing_success': None, 'landing_type': None, 'landpad': None}]   \n\n   auto_update    tbd launch_library_id                        id  \\\n0         True  False              None  5eb87cd9ffd86e000604b32a   \n1         True  False              None  5eb87cdaffd86e000604b32b   \n2         True  False              None  5eb87cdbffd86e000604b32c   \n3         True  False              None  5eb87cdbffd86e000604b32d   \n4         True  False              None  5eb87cdcffd86e000604b32e   \n5         True  False              None  5eb87cddffd86e000604b32f   \n6         True  False              None  5eb87cdeffd86e000604b330   \n7         True  False              None  5eb87cdfffd86e000604b331   \n8         True  False              None  5eb87ce0ffd86e000604b332   \n9         True  False              None  5eb87ce1ffd86e000604b333   \n\n  fairings.reused fairings.recovery_attempt fairings.recovered fairings.ships  \\\n0           False                     False              False             []   \n1           False                     False              False             []   \n2           False                     False              False             []   \n3           False                     False              False             []   \n4           False                     False              False             []   \n5            None                      None               None             []   \n6             NaN                       NaN                NaN            NaN   \n7             NaN                       NaN                NaN            NaN   \n8             NaN                       NaN                NaN            NaN   \n9             NaN                       NaN                NaN            NaN   \n\n                                 links.patch.small  \\\n0  https://images2.imgbox.com/94/f2/NN6Ph45r_o.png   \n1  https://images2.imgbox.com/f9/4a/ZboXReNb_o.png   \n2  https://images2.imgbox.com/6c/cb/na1tzhHs_o.png   \n3  https://images2.imgbox.com/95/39/sRqN7rsv_o.png   \n4  https://images2.imgbox.com/ab/5a/Pequxd5d_o.png   \n5  https://images2.imgbox.com/73/7f/u7BKqv2C_o.png   \n6  https://images2.imgbox.com/fa/dc/FOUDQ0Sn_o.png   \n7  https://images2.imgbox.com/c5/f4/XfLVgbaO_o.png   \n8  https://images2.imgbox.com/3e/91/hlGiK49a_o.png   \n9  https://images2.imgbox.com/bd/fe/lXUYKL28_o.png   \n\n                                 links.patch.large links.reddit.campaign  \\\n0  https://images2.imgbox.com/5b/02/QcxHUb5V_o.png                  None   \n1  https://images2.imgbox.com/80/a2/bkWotCIS_o.png                  None   \n2  https://images2.imgbox.com/4a/80/k1oAkY0k_o.png                  None   \n3  https://images2.imgbox.com/a3/99/qswRYzE8_o.png                  None   \n4  https://images2.imgbox.com/92/e4/7Cf6MLY0_o.png                  None   \n5  https://images2.imgbox.com/66/b4/8KZsjbt4_o.png                  None   \n6  https://images2.imgbox.com/04/6e/kniggvWD_o.png                  None   \n7  https://images2.imgbox.com/94/8d/YnZ1SLsT_o.png                  None   \n8  https://images2.imgbox.com/fb/42/0V9JgYQS_o.png                  None   \n9  https://images2.imgbox.com/bc/c5/fHN3m8KV_o.png                  None   \n\n                                                                                  links.reddit.launch  \\\n0                                                                                                None   \n1                                                                                                None   \n2                                                                                                None   \n3                                                                                                None   \n4                                                                                                None   \n5                                                                                                None   \n6                                                                                                None   \n7                                                                                                None   \n8                                                                                                None   \n9  https://www.reddit.com/r/space/comments/19gm5f/live_coverage_spacex_crs2_launch_to_the_iss/c8nvah4   \n\n  links.reddit.media links.reddit.recovery links.flickr.small  \\\n0               None                  None                 []   \n1               None                  None                 []   \n2               None                  None                 []   \n3               None                  None                 []   \n4               None                  None                 []   \n5               None                  None                 []   \n6               None                  None                 []   \n7               None                  None                 []   \n8               None                  None                 []   \n9               None                  None                 []   \n\n  links.flickr.original  \\\n0                    []   \n1                    []   \n2                    []   \n3                    []   \n4                    []   \n5                    []   \n6                    []   \n7                    []   \n8                    []   \n9                    []   \n\n                                                                                           links.presskit  \\\n0                                                                                                    None   \n1                                                                                                    None   \n2                                                                                                    None   \n3                                                                                                    None   \n4  http://www.spacex.com/press/2012/12/19/spacexs-falcon-1-successfully-delivers-razaksat-satellite-orbit   \n5                  http://forum.nasaspaceflight.com/index.php?action=dlattach;topic=21869.0;attach=230821   \n6                                                http://www.spacex.com/files/downloads/cots1-20101206.pdf   \n7                                           https://www.nasa.gov/pdf/649910main_cots2_presskit_051412.pdf   \n8                                             https://www.nasa.gov/pdf/694166main_SpaceXCRS-1PressKit.pdf   \n9                                       https://www.nasa.gov/sites/default/files/files/Orb2_PRESS_KIT.pdf   \n\n                                 links.webcast links.youtube_id  \\\n0  https://www.youtube.com/watch?v=0a_00nJ_Y88      0a_00nJ_Y88   \n1  https://www.youtube.com/watch?v=Lk4zQ2wP-Nc      Lk4zQ2wP-Nc   \n2  https://www.youtube.com/watch?v=v0w9p3U8860      v0w9p3U8860   \n3  https://www.youtube.com/watch?v=dLQ2tZEH6G0      dLQ2tZEH6G0   \n4  https://www.youtube.com/watch?v=yTaIDooc8Og      yTaIDooc8Og   \n5  https://www.youtube.com/watch?v=nxSxgBKlYws      nxSxgBKlYws   \n6  https://www.youtube.com/watch?v=cdLITgWKe_0      cdLITgWKe_0   \n7  https://www.youtube.com/watch?v=tpQzDbAY7yI      tpQzDbAY7yI   \n8  https://www.youtube.com/watch?v=-Vk3hiV_zXU      -Vk3hiV_zXU   \n9  https://www.youtube.com/watch?v=ik0ElKl5kW4      ik0ElKl5kW4   \n\n                                                                  links.article  \\\n0  https://www.space.com/2196-spacex-inaugural-falcon-1-rocket-lost-launch.html   \n1      https://www.space.com/3590-spacex-falcon-1-rocket-fails-reach-orbit.html   \n2       http://www.spacex.com/news/2013/02/11/falcon-1-flight-3-mission-summary   \n3                                          https://en.wikipedia.org/wiki/Ratsat   \n4                       http://www.spacex.com/news/2013/02/12/falcon-1-flight-5   \n5                       http://www.spacex.com/news/2013/02/12/falcon-9-flight-1   \n6                       https://en.wikipedia.org/wiki/SpaceX_COTS_Demo_Flight_1   \n7                                    https://en.wikipedia.org/wiki/Dragon_C2%2B   \n8       https://www.nasa.gov/mission_pages/station/main/spacex-crs1-target.html   \n9                                    https://en.wikipedia.org/wiki/SpaceX_CRS-2   \n\n                                                      links.wikipedia  \\\n0                               https://en.wikipedia.org/wiki/DemoSat   \n1                               https://en.wikipedia.org/wiki/DemoSat   \n2               https://en.wikipedia.org/wiki/Trailblazer_(satellite)   \n3                                https://en.wikipedia.org/wiki/Ratsat   \n4                              https://en.wikipedia.org/wiki/RazakSAT   \n5  https://en.wikipedia.org/wiki/Dragon_Spacecraft_Qualification_Unit   \n6             https://en.wikipedia.org/wiki/SpaceX_COTS_Demo_Flight_1   \n7                          https://en.wikipedia.org/wiki/Dragon_C2%2B   \n8                          https://en.wikipedia.org/wiki/SpaceX_CRS-1   \n9                          https://en.wikipedia.org/wiki/SpaceX_CRS-2   \n\n   fairings  \n0       NaN  \n1       NaN  \n2       NaN  \n3       NaN  \n4       NaN  \n5       NaN  \n6       NaN  \n7       NaN  \n8       NaN  \n9       NaN  \n",
     "name": "stdout"
    }
   ]
  },
  {
   "metadata": {},
   "cell_type": "markdown",
   "source": [
    "You will notice that a lot of the data are IDs. For example the rocket column has no information about the rocket just an identification number.\n",
    "\n",
    "We will now use the API again to get information about the launches using the IDs given for each launch. Specifically we will be using columns <code>rocket</code>, <code>payloads</code>, <code>launchpad</code>, and <code>cores</code>.\n"
   ]
  },
  {
   "metadata": {},
   "cell_type": "code",
   "source": [
    "# Lets take a subset of our dataframe keeping only the features we want and the flight number, and date_utc.\n",
    "data = data[['rocket', 'payloads', 'launchpad', 'cores', 'flight_number', 'date_utc']]\n",
    "\n",
    "# We will remove rows with multiple cores because those are falcon rockets with 2 extra rocket boosters and rows that have multiple payloads in a single rocket.\n",
    "data = data[data['cores'].map(len)==1]\n",
    "data = data[data['payloads'].map(len)==1]\n",
    "\n",
    "# Since payloads and cores are lists of size 1 we will also extract the single value in the list and replace the feature.\n",
    "data['cores'] = data['cores'].map(lambda x : x[0])\n",
    "data['payloads'] = data['payloads'].map(lambda x : x[0])\n",
    "\n",
    "# We also want to convert the date_utc to a datetime datatype and then extracting the date leaving the time\n",
    "data['date'] = pd.to_datetime(data['date_utc']).dt.date\n",
    "\n",
    "# Using the date we will restrict the dates of the launches\n",
    "data = data[data['date'] <= datetime.date(2020, 11, 13)]"
   ],
   "execution_count": 25,
   "outputs": []
  },
  {
   "metadata": {},
   "cell_type": "markdown",
   "source": [
    "* From the <code>rocket</code> we would like to learn the booster name\n",
    "\n",
    "* From the <code>payload</code> we would like to learn the mass of the payload and the orbit that it is going to\n",
    "\n",
    "* From the <code>launchpad</code> we would like to know the name of the launch site being used, the longitude, and the latitude.\n",
    "\n",
    "* From <code>cores</code> we would like to learn the outcome of the landing, the type of the landing, number of flights with that core, whether gridfins were used, whether the core is reused, whether legs were used, the landing pad used, the block of the core which is a number used to seperate version of cores, the number of times this specific core has been reused, and the serial of the core.\n",
    "\n",
    "The data from these requests will be stored in lists and will be used to create a new dataframe.\n"
   ]
  },
  {
   "metadata": {},
   "cell_type": "code",
   "source": [
    "#Global variables \n",
    "BoosterVersion = []\n",
    "PayloadMass = []\n",
    "Orbit = []\n",
    "LaunchSite = []\n",
    "Outcome = []\n",
    "Flights = []\n",
    "GridFins = []\n",
    "Reused = []\n",
    "Legs = []\n",
    "LandingPad = []\n",
    "Block = []\n",
    "ReusedCount = []\n",
    "Serial = []\n",
    "Longitude = []\n",
    "Latitude = []"
   ],
   "execution_count": 26,
   "outputs": []
  },
  {
   "metadata": {},
   "cell_type": "markdown",
   "source": [
    "These functions will apply the outputs globally to the above variables. Let's take a looks at <code>BoosterVersion</code> variable. Before we apply  <code>getBoosterVersion</code> the list is empty:\n"
   ]
  },
  {
   "metadata": {},
   "cell_type": "code",
   "source": [
    "BoosterVersion"
   ],
   "execution_count": 27,
   "outputs": [
    {
     "output_type": "execute_result",
     "execution_count": 27,
     "data": {
      "text/plain": "[]"
     },
     "metadata": {}
    }
   ]
  },
  {
   "metadata": {},
   "cell_type": "markdown",
   "source": [
    "Now, let's apply <code> getBoosterVersion</code> function method to get the booster version\n"
   ]
  },
  {
   "metadata": {},
   "cell_type": "code",
   "source": [
    "# Call getBoosterVersion\n",
    "getBoosterVersion(data)"
   ],
   "execution_count": 28,
   "outputs": [
    {
     "output_type": "stream",
     "text": "Rocket: 5e9d0d95eda69955f709d1eb\nRocket: 5e9d0d95eda69955f709d1eb\nRocket: 5e9d0d95eda69955f709d1eb\nRocket: 5e9d0d95eda69955f709d1eb\nRocket: 5e9d0d95eda69973a809d1ec\nRocket: 5e9d0d95eda69973a809d1ec\nRocket: 5e9d0d95eda69973a809d1ec\nRocket: 5e9d0d95eda69973a809d1ec\nRocket: 5e9d0d95eda69973a809d1ec\nRocket: 5e9d0d95eda69973a809d1ec\nRocket: 5e9d0d95eda69973a809d1ec\nRocket: 5e9d0d95eda69973a809d1ec\nRocket: 5e9d0d95eda69973a809d1ec\nRocket: 5e9d0d95eda69973a809d1ec\nRocket: 5e9d0d95eda69973a809d1ec\nRocket: 5e9d0d95eda69973a809d1ec\nRocket: 5e9d0d95eda69973a809d1ec\nRocket: 5e9d0d95eda69973a809d1ec\nRocket: 5e9d0d95eda69973a809d1ec\nRocket: 5e9d0d95eda69973a809d1ec\nRocket: 5e9d0d95eda69973a809d1ec\nRocket: 5e9d0d95eda69973a809d1ec\nRocket: 5e9d0d95eda69973a809d1ec\nRocket: 5e9d0d95eda69973a809d1ec\nRocket: 5e9d0d95eda69973a809d1ec\nRocket: 5e9d0d95eda69973a809d1ec\nRocket: 5e9d0d95eda69973a809d1ec\nRocket: 5e9d0d95eda69973a809d1ec\nRocket: 5e9d0d95eda69973a809d1ec\nRocket: 5e9d0d95eda69973a809d1ec\nRocket: 5e9d0d95eda69973a809d1ec\nRocket: 5e9d0d95eda69973a809d1ec\nRocket: 5e9d0d95eda69973a809d1ec\nRocket: 5e9d0d95eda69973a809d1ec\nRocket: 5e9d0d95eda69973a809d1ec\nRocket: 5e9d0d95eda69973a809d1ec\nRocket: 5e9d0d95eda69973a809d1ec\nRocket: 5e9d0d95eda69973a809d1ec\nRocket: 5e9d0d95eda69973a809d1ec\nRocket: 5e9d0d95eda69973a809d1ec\nRocket: 5e9d0d95eda69973a809d1ec\nRocket: 5e9d0d95eda69973a809d1ec\nRocket: 5e9d0d95eda69973a809d1ec\nRocket: 5e9d0d95eda69973a809d1ec\nRocket: 5e9d0d95eda69973a809d1ec\nRocket: 5e9d0d95eda69973a809d1ec\nRocket: 5e9d0d95eda69973a809d1ec\nRocket: 5e9d0d95eda69973a809d1ec\nRocket: 5e9d0d95eda69973a809d1ec\nRocket: 5e9d0d95eda69973a809d1ec\nRocket: 5e9d0d95eda69973a809d1ec\nRocket: 5e9d0d95eda69973a809d1ec\nRocket: 5e9d0d95eda69973a809d1ec\nRocket: 5e9d0d95eda69973a809d1ec\nRocket: 5e9d0d95eda69973a809d1ec\nRocket: 5e9d0d95eda69973a809d1ec\nRocket: 5e9d0d95eda69973a809d1ec\nRocket: 5e9d0d95eda69973a809d1ec\nRocket: 5e9d0d95eda69973a809d1ec\nRocket: 5e9d0d95eda69973a809d1ec\nRocket: 5e9d0d95eda69973a809d1ec\nRocket: 5e9d0d95eda69973a809d1ec\nRocket: 5e9d0d95eda69973a809d1ec\nRocket: 5e9d0d95eda69973a809d1ec\nRocket: 5e9d0d95eda69973a809d1ec\nRocket: 5e9d0d95eda69973a809d1ec\nRocket: 5e9d0d95eda69973a809d1ec\nRocket: 5e9d0d95eda69973a809d1ec\nRocket: 5e9d0d95eda69973a809d1ec\nRocket: 5e9d0d95eda69973a809d1ec\nRocket: 5e9d0d95eda69973a809d1ec\nRocket: 5e9d0d95eda69973a809d1ec\nRocket: 5e9d0d95eda69973a809d1ec\nRocket: 5e9d0d95eda69973a809d1ec\nRocket: 5e9d0d95eda69973a809d1ec\nRocket: 5e9d0d95eda69973a809d1ec\nRocket: 5e9d0d95eda69973a809d1ec\nRocket: 5e9d0d95eda69973a809d1ec\nRocket: 5e9d0d95eda69973a809d1ec\nRocket: 5e9d0d95eda69973a809d1ec\nRocket: 5e9d0d95eda69973a809d1ec\nRocket: 5e9d0d95eda69973a809d1ec\nRocket: 5e9d0d95eda69973a809d1ec\nRocket: 5e9d0d95eda69973a809d1ec\nRocket: 5e9d0d95eda69973a809d1ec\nRocket: 5e9d0d95eda69973a809d1ec\nRocket: 5e9d0d95eda69973a809d1ec\nRocket: 5e9d0d95eda69973a809d1ec\nRocket: 5e9d0d95eda69973a809d1ec\nRocket: 5e9d0d95eda69973a809d1ec\nRocket: 5e9d0d95eda69973a809d1ec\nRocket: 5e9d0d95eda69973a809d1ec\nRocket: 5e9d0d95eda69973a809d1ec\nRocket: 5e9d0d95eda69973a809d1ec\n",
     "name": "stdout"
    }
   ]
  },
  {
   "metadata": {},
   "cell_type": "code",
   "source": [
    "len(BoosterVersion)"
   ],
   "execution_count": 29,
   "outputs": [
    {
     "output_type": "execute_result",
     "execution_count": 29,
     "data": {
      "text/plain": "94"
     },
     "metadata": {}
    }
   ]
  },
  {
   "metadata": {},
   "cell_type": "markdown",
   "source": [
    "the list has now been update \n"
   ]
  },
  {
   "metadata": {},
   "cell_type": "code",
   "source": [
    "BoosterVersion[0:5]"
   ],
   "execution_count": 30,
   "outputs": [
    {
     "output_type": "execute_result",
     "execution_count": 30,
     "data": {
      "text/plain": "['Falcon 1', 'Falcon 1', 'Falcon 1', 'Falcon 1', 'Falcon 9']"
     },
     "metadata": {}
    }
   ]
  },
  {
   "metadata": {},
   "cell_type": "markdown",
   "source": [
    "we can apply the rest of the  functions here:\n"
   ]
  },
  {
   "metadata": {},
   "cell_type": "code",
   "source": [
    "# Call getLaunchSite\n",
    "getLaunchSite(data)"
   ],
   "execution_count": 31,
   "outputs": [
    {
     "output_type": "stream",
     "text": "Launchpad 5e9e4502f5090995de566f86\nLaunchpad 5e9e4502f5090995de566f86\nLaunchpad 5e9e4502f5090995de566f86\nLaunchpad 5e9e4502f5090995de566f86\nLaunchpad 5e9e4501f509094ba4566f84\nLaunchpad 5e9e4501f509094ba4566f84\nLaunchpad 5e9e4501f509094ba4566f84\nLaunchpad 5e9e4502f509092b78566f87\nLaunchpad 5e9e4501f509094ba4566f84\nLaunchpad 5e9e4501f509094ba4566f84\nLaunchpad 5e9e4501f509094ba4566f84\nLaunchpad 5e9e4501f509094ba4566f84\nLaunchpad 5e9e4501f509094ba4566f84\nLaunchpad 5e9e4501f509094ba4566f84\nLaunchpad 5e9e4501f509094ba4566f84\nLaunchpad 5e9e4501f509094ba4566f84\nLaunchpad 5e9e4501f509094ba4566f84\nLaunchpad 5e9e4501f509094ba4566f84\nLaunchpad 5e9e4501f509094ba4566f84\nLaunchpad 5e9e4501f509094ba4566f84\nLaunchpad 5e9e4501f509094ba4566f84\nLaunchpad 5e9e4502f509092b78566f87\nLaunchpad 5e9e4501f509094ba4566f84\nLaunchpad 5e9e4501f509094ba4566f84\nLaunchpad 5e9e4501f509094ba4566f84\nLaunchpad 5e9e4501f509094ba4566f84\nLaunchpad 5e9e4501f509094ba4566f84\nLaunchpad 5e9e4501f509094ba4566f84\nLaunchpad 5e9e4501f509094ba4566f84\nLaunchpad 5e9e4502f509092b78566f87\nLaunchpad 5e9e4502f509094188566f88\nLaunchpad 5e9e4502f509094188566f88\nLaunchpad 5e9e4502f509094188566f88\nLaunchpad 5e9e4502f509094188566f88\nLaunchpad 5e9e4502f509094188566f88\nLaunchpad 5e9e4502f509094188566f88\nLaunchpad 5e9e4502f509094188566f88\nLaunchpad 5e9e4502f509092b78566f87\nLaunchpad 5e9e4502f509094188566f88\nLaunchpad 5e9e4502f509094188566f88\nLaunchpad 5e9e4502f509092b78566f87\nLaunchpad 5e9e4502f509094188566f88\nLaunchpad 5e9e4502f509092b78566f87\nLaunchpad 5e9e4502f509094188566f88\nLaunchpad 5e9e4502f509094188566f88\nLaunchpad 5e9e4501f509094ba4566f84\nLaunchpad 5e9e4502f509092b78566f87\nLaunchpad 5e9e4501f509094ba4566f84\nLaunchpad 5e9e4501f509094ba4566f84\nLaunchpad 5e9e4501f509094ba4566f84\nLaunchpad 5e9e4502f509092b78566f87\nLaunchpad 5e9e4501f509094ba4566f84\nLaunchpad 5e9e4501f509094ba4566f84\nLaunchpad 5e9e4502f509094188566f88\nLaunchpad 5e9e4501f509094ba4566f84\nLaunchpad 5e9e4501f509094ba4566f84\nLaunchpad 5e9e4501f509094ba4566f84\nLaunchpad 5e9e4502f509092b78566f87\nLaunchpad 5e9e4501f509094ba4566f84\nLaunchpad 5e9e4501f509094ba4566f84\nLaunchpad 5e9e4502f509092b78566f87\nLaunchpad 5e9e4502f509094188566f88\nLaunchpad 5e9e4502f509092b78566f87\nLaunchpad 5e9e4501f509094ba4566f84\nLaunchpad 5e9e4501f509094ba4566f84\nLaunchpad 5e9e4502f509092b78566f87\nLaunchpad 5e9e4502f509094188566f88\nLaunchpad 5e9e4501f509094ba4566f84\nLaunchpad 5e9e4501f509094ba4566f84\nLaunchpad 5e9e4502f509092b78566f87\nLaunchpad 5e9e4501f509094ba4566f84\nLaunchpad 5e9e4501f509094ba4566f84\nLaunchpad 5e9e4501f509094ba4566f84\nLaunchpad 5e9e4501f509094ba4566f84\nLaunchpad 5e9e4501f509094ba4566f84\nLaunchpad 5e9e4501f509094ba4566f84\nLaunchpad 5e9e4502f509094188566f88\nLaunchpad 5e9e4501f509094ba4566f84\nLaunchpad 5e9e4501f509094ba4566f84\nLaunchpad 5e9e4501f509094ba4566f84\nLaunchpad 5e9e4502f509094188566f88\nLaunchpad 5e9e4502f509094188566f88\nLaunchpad 5e9e4502f509094188566f88\nLaunchpad 5e9e4501f509094ba4566f84\nLaunchpad 5e9e4501f509094ba4566f84\nLaunchpad 5e9e4501f509094ba4566f84\nLaunchpad 5e9e4501f509094ba4566f84\nLaunchpad 5e9e4501f509094ba4566f84\nLaunchpad 5e9e4501f509094ba4566f84\nLaunchpad 5e9e4502f509094188566f88\nLaunchpad 5e9e4502f509094188566f88\nLaunchpad 5e9e4502f509094188566f88\nLaunchpad 5e9e4501f509094ba4566f84\nLaunchpad 5e9e4501f509094ba4566f84\n",
     "name": "stdout"
    }
   ]
  },
  {
   "metadata": {},
   "cell_type": "code",
   "source": [
    "# Call getPayloadData\n",
    "getPayloadData(data)"
   ],
   "execution_count": 32,
   "outputs": [
    {
     "output_type": "stream",
     "text": "Payload: 5eb0e4b5b6c3bb0006eeb1e1\nPayload: 5eb0e4b6b6c3bb0006eeb1e2\nPayload: 5eb0e4b7b6c3bb0006eeb1e5\nPayload: 5eb0e4b7b6c3bb0006eeb1e6\nPayload: 5eb0e4b7b6c3bb0006eeb1e7\nPayload: 5eb0e4bab6c3bb0006eeb1ea\nPayload: 5eb0e4bbb6c3bb0006eeb1ed\nPayload: 5eb0e4bbb6c3bb0006eeb1ee\nPayload: 5eb0e4bbb6c3bb0006eeb1ef\nPayload: 5eb0e4bbb6c3bb0006eeb1f0\nPayload: 5eb0e4bbb6c3bb0006eeb1f1\nPayload: 5eb0e4bcb6c3bb0006eeb1f2\nPayload: 5eb0e4bcb6c3bb0006eeb1f3\nPayload: 5eb0e4bcb6c3bb0006eeb1f4\nPayload: 5eb0e4bcb6c3bb0006eeb1f5\nPayload: 5eb0e4bdb6c3bb0006eeb1f6\nPayload: 5eb0e4bdb6c3bb0006eeb1f7\nPayload: 5eb0e4bdb6c3bb0006eeb1fa\nPayload: 5eb0e4beb6c3bb0006eeb1fb\nPayload: 5eb0e4beb6c3bb0006eeb1fc\nPayload: 5eb0e4beb6c3bb0006eeb1fd\nPayload: 5eb0e4beb6c3bb0006eeb1fe\nPayload: 5eb0e4beb6c3bb0006eeb1ff\nPayload: 5eb0e4bfb6c3bb0006eeb200\nPayload: 5eb0e4bfb6c3bb0006eeb201\nPayload: 5eb0e4bfb6c3bb0006eeb202\nPayload: 5eb0e4c0b6c3bb0006eeb205\nPayload: 5eb0e4c1b6c3bb0006eeb206\nPayload: 5eb0e4c1b6c3bb0006eeb207\nPayload: 5eb0e4c2b6c3bb0006eeb208\nPayload: 5eb0e4c3b6c3bb0006eeb209\nPayload: 5eb0e4c3b6c3bb0006eeb20a\nPayload: 5eb0e4c3b6c3bb0006eeb20b\nPayload: 5eb0e4c3b6c3bb0006eeb20c\nPayload: 5eb0e4c3b6c3bb0006eeb20d\nPayload: 5eb0e4c4b6c3bb0006eeb20e\nPayload: 5eb0e4c4b6c3bb0006eeb20f\nPayload: 5eb0e4c4b6c3bb0006eeb210\nPayload: 5eb0e4c4b6c3bb0006eeb211\nPayload: 5eb0e4c4b6c3bb0006eeb212\nPayload: 5eb0e4c4b6c3bb0006eeb213\nPayload: 5eb0e4c5b6c3bb0006eeb214\nPayload: 5eb0e4c5b6c3bb0006eeb215\nPayload: 5eb0e4c5b6c3bb0006eeb216\nPayload: 5eb0e4c5b6c3bb0006eeb217\nPayload: 5eb0e4c5b6c3bb0006eeb218\nPayload: 5eb0e4c6b6c3bb0006eeb219\nPayload: 5eb0e4c6b6c3bb0006eeb21a\nPayload: 5eb0e4c6b6c3bb0006eeb21b\nPayload: 5eb0e4c7b6c3bb0006eeb21f\nPayload: 5eb0e4c7b6c3bb0006eeb220\nPayload: 5eb0e4c7b6c3bb0006eeb221\nPayload: 5eb0e4c7b6c3bb0006eeb222\nPayload: 5eb0e4c7b6c3bb0006eeb223\nPayload: 5eb0e4c8b6c3bb0006eeb226\nPayload: 5eb0e4c8b6c3bb0006eeb227\nPayload: 5eb0e4c8b6c3bb0006eeb228\nPayload: 5eb0e4c9b6c3bb0006eeb229\nPayload: 5eb0e4c9b6c3bb0006eeb22a\nPayload: 5eb0e4c9b6c3bb0006eeb22b\nPayload: 5eb0e4c9b6c3bb0006eeb22c\nPayload: 5eb0e4c9b6c3bb0006eeb22d\nPayload: 5eb0e4c9b6c3bb0006eeb22e\nPayload: 5eb0e4cab6c3bb0006eeb22f\nPayload: 5eb0e4cab6c3bb0006eeb230\nPayload: 5eb0e4cab6c3bb0006eeb231\nPayload: 5eb0e4cbb6c3bb0006eeb235\nPayload: 5eb0e4cbb6c3bb0006eeb237\nPayload: 5eb0e4cbb6c3bb0006eeb238\nPayload: 5eb0e4ccb6c3bb0006eeb239\nPayload: 5eb0e4ceb6c3bb0006eeb24a\nPayload: 5eb0e4cfb6c3bb0006eeb24b\nPayload: 5eb0e4cfb6c3bb0006eeb24c\nPayload: 5eb0e4cfb6c3bb0006eeb24d\nPayload: 5eb0e4cfb6c3bb0006eeb24e\nPayload: 5eb0e4cfb6c3bb0006eeb24f\nPayload: 5eb0e4d0b6c3bb0006eeb250\nPayload: 5eb0e4d0b6c3bb0006eeb251\nPayload: 5eb0e4d0b6c3bb0006eeb252\nPayload: 5eb0e4d0b6c3bb0006eeb253\nPayload: 5eb0e4d0b6c3bb0006eeb254\nPayload: 5eb0e4d1b6c3bb0006eeb255\nPayload: 5eb0e4d1b6c3bb0006eeb257\nPayload: 5eb0e4d1b6c3bb0006eeb256\nPayload: 5eb0e4d1b6c3bb0006eeb258\nPayload: 5eb0e4d2b6c3bb0006eeb25c\nPayload: 5eb0e4d2b6c3bb0006eeb25b\nPayload: 5ed9859f1f30554030d45c3f\nPayload: 5eb0e4d1b6c3bb0006eeb259\nPayload: 5ef6a4600059c33cee4a829e\nPayload: 5ef6a48e0059c33cee4a829f\nPayload: 5ef6a4d50059c33cee4a82a1\nPayload: 5ef6a4ea0059c33cee4a82a2\nPayload: 5eb0e4d2b6c3bb0006eeb25e\n",
     "name": "stdout"
    }
   ]
  },
  {
   "metadata": {},
   "cell_type": "code",
   "source": [
    "# Call getCoreData\n",
    "getCoreData(data)"
   ],
   "execution_count": 33,
   "outputs": [
    {
     "output_type": "stream",
     "text": "Core: 5e9e289df35918033d3b2623\nCore: 5e9e289ef35918416a3b2624\nCore: 5e9e289ef3591855dc3b2626\nCore: 5e9e289ef359184f103b2627\nCore: 5e9e289ef359185f2b3b2628\nCore: 5e9e289ef35918f39c3b262a\nCore: 5e9e289ff3591884e03b262c\nCore: 5e9e289ff359180ae23b262d\nCore: 5e9e289ff35918862c3b262e\nCore: 5e9e289ff3591878603b262f\nCore: 5e9e289ff3591829343b2630\nCore: 5e9e28a0f3591870a63b2631\nCore: 5e9e28a0f359186e2e3b2632\nCore: 5e9e28a0f35918b1bc3b2633\nCore: 5e9e28a0f359184a683b2634\nCore: 5e9e28a0f359187a3c3b2635\nCore: 5e9e28a0f3591885be3b2636\nCore: 5e9e28a1f359186d533b2638\nCore: 5e9e28a1f35918233f3b2639\nCore: 5e9e28a1f35918683c3b263a\nCore: 5e9e28a1f3591867753b263b\nCore: 5e9e28a1f3591842fa3b263c\nCore: 5e9e28a1f359188def3b263d\nCore: 5e9e28a2f359182d0b3b263e\nCore: 5e9e28a2f35918077b3b263f\nCore: 5e9e28a2f3591845c73b2640\nCore: 5e9e28a2f359187f273b2642\nCore: 5e9e28a2f35918b8243b2643\nCore: 5e9e28a2f359187ee83b2644\nCore: 5e9e28a3f359189e3a3b2645\nCore: 5e9e28a3f3591829dc3b2646\nCore: 5e9e28a3f3591878473b2647\nCore: 5e9e28a2f359182d0b3b263e\nCore: 5e9e28a3f3591811f83b2648\nCore: 5e9e28a3f359186f3f3b2649\nCore: 5e9e28a3f3591856803b264a\nCore: 5e9e28a3f359189e3a3b2645\nCore: 5e9e28a3f3591801cf3b264b\nCore: 5e9e28a4f3591850cc3b264c\nCore: 5e9e28a4f3591884ee3b264d\nCore: 5e9e28a4f359182d843b264e\nCore: 5e9e28a4f3591845123b264f\nCore: 5e9e28a4f3591843103b2650\nCore: 5e9e28a3f3591829dc3b2646\nCore: 5e9e28a4f359185cc03b2651\nCore: 5e9e28a3f3591856803b264a\nCore: 5e9e28a3f3591801cf3b264b\nCore: 5e9e28a4f35918345e3b2652\nCore: 5e9e28a3f3591811f83b2648\nCore: 5e9e28a5f359186cb73b2654\nCore: 5e9e28a4f3591843103b2650\nCore: 5e9e28a4f3591884ee3b264d\nCore: 5e9e28a5f35918863d3b2655\nCore: 5e9e28a5f359182b023b2656\nCore: 5e9e28a4f3591845123b264f\nCore: 5e9e28a5f35918863d3b2655\nCore: 5e9e28a5f359181eed3b2657\nCore: 5e9e28a5f3591809c03b2658\nCore: 5e9e28a5f359182b023b2656\nCore: 5e9e28a5f3591833b13b2659\nCore: 5e9e28a5f3591809c03b2658\nCore: 5e9e28a5f359181eed3b2657\nCore: 5e9e28a5f359182b023b2656\nCore: 5e9e28a6f359185c603b265a\nCore: 5e9e28a6f35918513b3b265b\nCore: 5e9e28a5f3591833b13b2659\nCore: 5e9e28a6f35918c0803b265c\nCore: 5e9e28a7f3591809313b2660\nCore: 5e9e28a5f3591833b13b2659\nCore: 5e9e28a6f35918c0803b265c\nCore: 5e9e28a7f3591809313b2660\nCore: 5e9e28a5f359181eed3b2657\nCore: 5e9e28a5f3591809c03b2658\nCore: 5e9e28a7f359187afd3b2662\nCore: 5e9e28a7f3591809313b2660\nCore: 5e9e28a5f3591833b13b2659\nCore: 5e9e28a5f359182b023b2656\nCore: 5e9e28a6f35918c0803b265c\nCore: 5e9e28a7f3591809313b2660\nCore: 5e9e28a7f359187afd3b2662\nCore: 5e9e28a5f3591809c03b2658\nCore: 5e9e28a6f35918c0803b265c\nCore: 5e9e28a7f3591817f23b2663\nCore: 5e9e28a5f3591833b13b2659\nCore: 5e9e28a7f359187afd3b2662\nCore: 5ef670f10059c33cee4a826c\nCore: 5e9e28a7f3591817f23b2663\nCore: 5e9e28a5f3591833b13b2659\nCore: 5e9e28a7f359187afd3b2662\nCore: 5ef670f10059c33cee4a826c\nCore: 5e9e28a7f3591817f23b2663\nCore: 5e9e28a6f35918c0803b265c\nCore: 5ef670f10059c33cee4a826c\nCore: 5f57c5440622a633027900a0\n",
     "name": "stdout"
    }
   ]
  },
  {
   "metadata": {},
   "cell_type": "markdown",
   "source": [
    "Finally lets construct our dataset using the data we have obtained. We we combine the columns into a dictionary.\n"
   ]
  },
  {
   "metadata": {},
   "cell_type": "code",
   "source": [
    "launch_dict = {'FlightNumber': list(data['flight_number']),\n",
    "'Date': list(data['date']),\n",
    "'BoosterVersion':BoosterVersion,\n",
    "'PayloadMass':PayloadMass,\n",
    "'Orbit':Orbit,\n",
    "'LaunchSite':LaunchSite,\n",
    "'Outcome':Outcome,\n",
    "'Flights':Flights,\n",
    "'GridFins':GridFins,\n",
    "'Reused':Reused,\n",
    "'Legs':Legs,\n",
    "'LandingPad':LandingPad,\n",
    "'Block':Block,\n",
    "'ReusedCount':ReusedCount,\n",
    "'Serial':Serial,\n",
    "'Longitude': Longitude,\n",
    "'Latitude': Latitude}\n"
   ],
   "execution_count": 34,
   "outputs": []
  },
  {
   "metadata": {},
   "cell_type": "code",
   "source": [
    "launch_dict.keys()\n"
   ],
   "execution_count": 35,
   "outputs": [
    {
     "output_type": "execute_result",
     "execution_count": 35,
     "data": {
      "text/plain": "dict_keys(['FlightNumber', 'Date', 'BoosterVersion', 'PayloadMass', 'Orbit', 'LaunchSite', 'Outcome', 'Flights', 'GridFins', 'Reused', 'Legs', 'LandingPad', 'Block', 'ReusedCount', 'Serial', 'Longitude', 'Latitude'])"
     },
     "metadata": {}
    }
   ]
  },
  {
   "metadata": {},
   "cell_type": "markdown",
   "source": [
    "Then, we need to create a Pandas data frame from the dictionary launch_dict.\n"
   ]
  },
  {
   "metadata": {},
   "cell_type": "code",
   "source": [
    "# Create a data from launch_dict\n",
    "df = pd.DataFrame(launch_dict)"
   ],
   "execution_count": 36,
   "outputs": []
  },
  {
   "metadata": {},
   "cell_type": "markdown",
   "source": [
    "Show the summary of the dataframe\n"
   ]
  },
  {
   "metadata": {},
   "cell_type": "code",
   "source": [
    "df.shape"
   ],
   "execution_count": 37,
   "outputs": [
    {
     "output_type": "execute_result",
     "execution_count": 37,
     "data": {
      "text/plain": "(94, 17)"
     },
     "metadata": {}
    }
   ]
  },
  {
   "metadata": {},
   "cell_type": "code",
   "source": [
    "df.describe()"
   ],
   "execution_count": 38,
   "outputs": [
    {
     "output_type": "execute_result",
     "execution_count": 38,
     "data": {
      "text/plain": "       FlightNumber   PayloadMass    Flights      Block  ReusedCount  \\\ncount     94.000000     88.000000  94.000000  90.000000    94.000000   \nmean      54.202128   5919.165341   1.755319   3.500000     3.053191   \nstd       30.589048   4909.689575   1.197544   1.595288     4.153938   \nmin        1.000000     20.000000   1.000000   1.000000     0.000000   \n25%       28.250000   2406.250000   1.000000   2.000000     0.000000   \n50%       52.500000   4414.000000   1.000000   4.000000     1.000000   \n75%       81.500000   9543.750000   2.000000   5.000000     4.000000   \nmax      106.000000  15600.000000   6.000000   5.000000    13.000000   \n\n        Longitude   Latitude  \ncount   94.000000  94.000000  \nmean   -75.553302  28.581782  \nstd     53.391880   4.639981  \nmin   -120.610829   9.047721  \n25%    -80.603956  28.561857  \n50%    -80.577366  28.561857  \n75%    -80.577366  28.608058  \nmax    167.743129  34.632093  ",
      "text/html": "<div>\n<style scoped>\n    .dataframe tbody tr th:only-of-type {\n        vertical-align: middle;\n    }\n\n    .dataframe tbody tr th {\n        vertical-align: top;\n    }\n\n    .dataframe thead th {\n        text-align: right;\n    }\n</style>\n<table border=\"1\" class=\"dataframe\">\n  <thead>\n    <tr style=\"text-align: right;\">\n      <th></th>\n      <th>FlightNumber</th>\n      <th>PayloadMass</th>\n      <th>Flights</th>\n      <th>Block</th>\n      <th>ReusedCount</th>\n      <th>Longitude</th>\n      <th>Latitude</th>\n    </tr>\n  </thead>\n  <tbody>\n    <tr>\n      <th>count</th>\n      <td>94.000000</td>\n      <td>88.000000</td>\n      <td>94.000000</td>\n      <td>90.000000</td>\n      <td>94.000000</td>\n      <td>94.000000</td>\n      <td>94.000000</td>\n    </tr>\n    <tr>\n      <th>mean</th>\n      <td>54.202128</td>\n      <td>5919.165341</td>\n      <td>1.755319</td>\n      <td>3.500000</td>\n      <td>3.053191</td>\n      <td>-75.553302</td>\n      <td>28.581782</td>\n    </tr>\n    <tr>\n      <th>std</th>\n      <td>30.589048</td>\n      <td>4909.689575</td>\n      <td>1.197544</td>\n      <td>1.595288</td>\n      <td>4.153938</td>\n      <td>53.391880</td>\n      <td>4.639981</td>\n    </tr>\n    <tr>\n      <th>min</th>\n      <td>1.000000</td>\n      <td>20.000000</td>\n      <td>1.000000</td>\n      <td>1.000000</td>\n      <td>0.000000</td>\n      <td>-120.610829</td>\n      <td>9.047721</td>\n    </tr>\n    <tr>\n      <th>25%</th>\n      <td>28.250000</td>\n      <td>2406.250000</td>\n      <td>1.000000</td>\n      <td>2.000000</td>\n      <td>0.000000</td>\n      <td>-80.603956</td>\n      <td>28.561857</td>\n    </tr>\n    <tr>\n      <th>50%</th>\n      <td>52.500000</td>\n      <td>4414.000000</td>\n      <td>1.000000</td>\n      <td>4.000000</td>\n      <td>1.000000</td>\n      <td>-80.577366</td>\n      <td>28.561857</td>\n    </tr>\n    <tr>\n      <th>75%</th>\n      <td>81.500000</td>\n      <td>9543.750000</td>\n      <td>2.000000</td>\n      <td>5.000000</td>\n      <td>4.000000</td>\n      <td>-80.577366</td>\n      <td>28.608058</td>\n    </tr>\n    <tr>\n      <th>max</th>\n      <td>106.000000</td>\n      <td>15600.000000</td>\n      <td>6.000000</td>\n      <td>5.000000</td>\n      <td>13.000000</td>\n      <td>167.743129</td>\n      <td>34.632093</td>\n    </tr>\n  </tbody>\n</table>\n</div>"
     },
     "metadata": {}
    }
   ]
  },
  {
   "metadata": {},
   "cell_type": "code",
   "source": [
    "# Show the head of the dataframe\n",
    "df.head(10)"
   ],
   "execution_count": 39,
   "outputs": [
    {
     "output_type": "execute_result",
     "execution_count": 39,
     "data": {
      "text/plain": "   FlightNumber        Date BoosterVersion  PayloadMass Orbit  \\\n0             1  2006-03-24       Falcon 1         20.0   LEO   \n1             2  2007-03-21       Falcon 1          NaN   LEO   \n2             4  2008-09-28       Falcon 1        165.0   LEO   \n3             5  2009-07-13       Falcon 1        200.0   LEO   \n4             6  2010-06-04       Falcon 9          NaN   LEO   \n5             8  2012-05-22       Falcon 9        525.0   LEO   \n6            10  2013-03-01       Falcon 9        677.0   ISS   \n7            11  2013-09-29       Falcon 9        500.0    PO   \n8            12  2013-12-03       Falcon 9       3170.0   GTO   \n9            13  2014-01-06       Falcon 9       3325.0   GTO   \n\n        LaunchSite      Outcome  Flights  GridFins  Reused   Legs LandingPad  \\\n0  Kwajalein Atoll    None None        1     False   False  False       None   \n1  Kwajalein Atoll    None None        1     False   False  False       None   \n2  Kwajalein Atoll    None None        1     False   False  False       None   \n3  Kwajalein Atoll    None None        1     False   False  False       None   \n4     CCSFS SLC 40    None None        1     False   False  False       None   \n5     CCSFS SLC 40    None None        1     False   False  False       None   \n6     CCSFS SLC 40    None None        1     False   False  False       None   \n7      VAFB SLC 4E  False Ocean        1     False   False  False       None   \n8     CCSFS SLC 40    None None        1     False   False  False       None   \n9     CCSFS SLC 40    None None        1     False   False  False       None   \n\n   Block  ReusedCount    Serial   Longitude   Latitude  \n0    NaN            0  Merlin1A  167.743129   9.047721  \n1    NaN            0  Merlin2A  167.743129   9.047721  \n2    NaN            0  Merlin2C  167.743129   9.047721  \n3    NaN            0  Merlin3C  167.743129   9.047721  \n4    1.0            0     B0003  -80.577366  28.561857  \n5    1.0            0     B0005  -80.577366  28.561857  \n6    1.0            0     B0007  -80.577366  28.561857  \n7    1.0            0     B1003 -120.610829  34.632093  \n8    1.0            0     B1004  -80.577366  28.561857  \n9    1.0            0     B1005  -80.577366  28.561857  ",
      "text/html": "<div>\n<style scoped>\n    .dataframe tbody tr th:only-of-type {\n        vertical-align: middle;\n    }\n\n    .dataframe tbody tr th {\n        vertical-align: top;\n    }\n\n    .dataframe thead th {\n        text-align: right;\n    }\n</style>\n<table border=\"1\" class=\"dataframe\">\n  <thead>\n    <tr style=\"text-align: right;\">\n      <th></th>\n      <th>FlightNumber</th>\n      <th>Date</th>\n      <th>BoosterVersion</th>\n      <th>PayloadMass</th>\n      <th>Orbit</th>\n      <th>LaunchSite</th>\n      <th>Outcome</th>\n      <th>Flights</th>\n      <th>GridFins</th>\n      <th>Reused</th>\n      <th>Legs</th>\n      <th>LandingPad</th>\n      <th>Block</th>\n      <th>ReusedCount</th>\n      <th>Serial</th>\n      <th>Longitude</th>\n      <th>Latitude</th>\n    </tr>\n  </thead>\n  <tbody>\n    <tr>\n      <th>0</th>\n      <td>1</td>\n      <td>2006-03-24</td>\n      <td>Falcon 1</td>\n      <td>20.0</td>\n      <td>LEO</td>\n      <td>Kwajalein Atoll</td>\n      <td>None None</td>\n      <td>1</td>\n      <td>False</td>\n      <td>False</td>\n      <td>False</td>\n      <td>None</td>\n      <td>NaN</td>\n      <td>0</td>\n      <td>Merlin1A</td>\n      <td>167.743129</td>\n      <td>9.047721</td>\n    </tr>\n    <tr>\n      <th>1</th>\n      <td>2</td>\n      <td>2007-03-21</td>\n      <td>Falcon 1</td>\n      <td>NaN</td>\n      <td>LEO</td>\n      <td>Kwajalein Atoll</td>\n      <td>None None</td>\n      <td>1</td>\n      <td>False</td>\n      <td>False</td>\n      <td>False</td>\n      <td>None</td>\n      <td>NaN</td>\n      <td>0</td>\n      <td>Merlin2A</td>\n      <td>167.743129</td>\n      <td>9.047721</td>\n    </tr>\n    <tr>\n      <th>2</th>\n      <td>4</td>\n      <td>2008-09-28</td>\n      <td>Falcon 1</td>\n      <td>165.0</td>\n      <td>LEO</td>\n      <td>Kwajalein Atoll</td>\n      <td>None None</td>\n      <td>1</td>\n      <td>False</td>\n      <td>False</td>\n      <td>False</td>\n      <td>None</td>\n      <td>NaN</td>\n      <td>0</td>\n      <td>Merlin2C</td>\n      <td>167.743129</td>\n      <td>9.047721</td>\n    </tr>\n    <tr>\n      <th>3</th>\n      <td>5</td>\n      <td>2009-07-13</td>\n      <td>Falcon 1</td>\n      <td>200.0</td>\n      <td>LEO</td>\n      <td>Kwajalein Atoll</td>\n      <td>None None</td>\n      <td>1</td>\n      <td>False</td>\n      <td>False</td>\n      <td>False</td>\n      <td>None</td>\n      <td>NaN</td>\n      <td>0</td>\n      <td>Merlin3C</td>\n      <td>167.743129</td>\n      <td>9.047721</td>\n    </tr>\n    <tr>\n      <th>4</th>\n      <td>6</td>\n      <td>2010-06-04</td>\n      <td>Falcon 9</td>\n      <td>NaN</td>\n      <td>LEO</td>\n      <td>CCSFS SLC 40</td>\n      <td>None None</td>\n      <td>1</td>\n      <td>False</td>\n      <td>False</td>\n      <td>False</td>\n      <td>None</td>\n      <td>1.0</td>\n      <td>0</td>\n      <td>B0003</td>\n      <td>-80.577366</td>\n      <td>28.561857</td>\n    </tr>\n    <tr>\n      <th>5</th>\n      <td>8</td>\n      <td>2012-05-22</td>\n      <td>Falcon 9</td>\n      <td>525.0</td>\n      <td>LEO</td>\n      <td>CCSFS SLC 40</td>\n      <td>None None</td>\n      <td>1</td>\n      <td>False</td>\n      <td>False</td>\n      <td>False</td>\n      <td>None</td>\n      <td>1.0</td>\n      <td>0</td>\n      <td>B0005</td>\n      <td>-80.577366</td>\n      <td>28.561857</td>\n    </tr>\n    <tr>\n      <th>6</th>\n      <td>10</td>\n      <td>2013-03-01</td>\n      <td>Falcon 9</td>\n      <td>677.0</td>\n      <td>ISS</td>\n      <td>CCSFS SLC 40</td>\n      <td>None None</td>\n      <td>1</td>\n      <td>False</td>\n      <td>False</td>\n      <td>False</td>\n      <td>None</td>\n      <td>1.0</td>\n      <td>0</td>\n      <td>B0007</td>\n      <td>-80.577366</td>\n      <td>28.561857</td>\n    </tr>\n    <tr>\n      <th>7</th>\n      <td>11</td>\n      <td>2013-09-29</td>\n      <td>Falcon 9</td>\n      <td>500.0</td>\n      <td>PO</td>\n      <td>VAFB SLC 4E</td>\n      <td>False Ocean</td>\n      <td>1</td>\n      <td>False</td>\n      <td>False</td>\n      <td>False</td>\n      <td>None</td>\n      <td>1.0</td>\n      <td>0</td>\n      <td>B1003</td>\n      <td>-120.610829</td>\n      <td>34.632093</td>\n    </tr>\n    <tr>\n      <th>8</th>\n      <td>12</td>\n      <td>2013-12-03</td>\n      <td>Falcon 9</td>\n      <td>3170.0</td>\n      <td>GTO</td>\n      <td>CCSFS SLC 40</td>\n      <td>None None</td>\n      <td>1</td>\n      <td>False</td>\n      <td>False</td>\n      <td>False</td>\n      <td>None</td>\n      <td>1.0</td>\n      <td>0</td>\n      <td>B1004</td>\n      <td>-80.577366</td>\n      <td>28.561857</td>\n    </tr>\n    <tr>\n      <th>9</th>\n      <td>13</td>\n      <td>2014-01-06</td>\n      <td>Falcon 9</td>\n      <td>3325.0</td>\n      <td>GTO</td>\n      <td>CCSFS SLC 40</td>\n      <td>None None</td>\n      <td>1</td>\n      <td>False</td>\n      <td>False</td>\n      <td>False</td>\n      <td>None</td>\n      <td>1.0</td>\n      <td>0</td>\n      <td>B1005</td>\n      <td>-80.577366</td>\n      <td>28.561857</td>\n    </tr>\n  </tbody>\n</table>\n</div>"
     },
     "metadata": {}
    }
   ]
  },
  {
   "metadata": {},
   "cell_type": "markdown",
   "source": [
    "### Task 2: Filter the dataframe to only include `Falcon 9` launches\n"
   ]
  },
  {
   "metadata": {},
   "cell_type": "markdown",
   "source": [
    "Finally we will remove the Falcon 1 launches keeping only the Falcon 9 launches. Filter the data dataframe using the <code>BoosterVersion</code> column to only keep the Falcon 9 launches. Save the filtered data to a new dataframe called <code>data_falcon9</code>.\n"
   ]
  },
  {
   "metadata": {},
   "cell_type": "code",
   "source": [
    "# Hint data['BoosterVersion']!='Falcon 1'\n",
    "falcon_9_df = df[df[\"BoosterVersion\"] == \"Falcon 9\"]\n",
    "falcon_9_df.head(10)"
   ],
   "execution_count": 40,
   "outputs": [
    {
     "output_type": "execute_result",
     "execution_count": 40,
     "data": {
      "text/plain": "    FlightNumber        Date BoosterVersion  PayloadMass Orbit    LaunchSite  \\\n4              6  2010-06-04       Falcon 9          NaN   LEO  CCSFS SLC 40   \n5              8  2012-05-22       Falcon 9        525.0   LEO  CCSFS SLC 40   \n6             10  2013-03-01       Falcon 9        677.0   ISS  CCSFS SLC 40   \n7             11  2013-09-29       Falcon 9        500.0    PO   VAFB SLC 4E   \n8             12  2013-12-03       Falcon 9       3170.0   GTO  CCSFS SLC 40   \n9             13  2014-01-06       Falcon 9       3325.0   GTO  CCSFS SLC 40   \n10            14  2014-04-18       Falcon 9       2296.0   ISS  CCSFS SLC 40   \n11            15  2014-07-14       Falcon 9       1316.0   LEO  CCSFS SLC 40   \n12            16  2014-08-05       Falcon 9       4535.0   GTO  CCSFS SLC 40   \n13            17  2014-09-07       Falcon 9       4428.0   GTO  CCSFS SLC 40   \n\n        Outcome  Flights  GridFins  Reused   Legs LandingPad  Block  \\\n4     None None        1     False   False  False       None    1.0   \n5     None None        1     False   False  False       None    1.0   \n6     None None        1     False   False  False       None    1.0   \n7   False Ocean        1     False   False  False       None    1.0   \n8     None None        1     False   False  False       None    1.0   \n9     None None        1     False   False  False       None    1.0   \n10   True Ocean        1     False   False   True       None    1.0   \n11   True Ocean        1     False   False   True       None    1.0   \n12    None None        1     False   False  False       None    1.0   \n13    None None        1     False   False  False       None    1.0   \n\n    ReusedCount Serial   Longitude   Latitude  \n4             0  B0003  -80.577366  28.561857  \n5             0  B0005  -80.577366  28.561857  \n6             0  B0007  -80.577366  28.561857  \n7             0  B1003 -120.610829  34.632093  \n8             0  B1004  -80.577366  28.561857  \n9             0  B1005  -80.577366  28.561857  \n10            0  B1006  -80.577366  28.561857  \n11            0  B1007  -80.577366  28.561857  \n12            0  B1008  -80.577366  28.561857  \n13            0  B1011  -80.577366  28.561857  ",
      "text/html": "<div>\n<style scoped>\n    .dataframe tbody tr th:only-of-type {\n        vertical-align: middle;\n    }\n\n    .dataframe tbody tr th {\n        vertical-align: top;\n    }\n\n    .dataframe thead th {\n        text-align: right;\n    }\n</style>\n<table border=\"1\" class=\"dataframe\">\n  <thead>\n    <tr style=\"text-align: right;\">\n      <th></th>\n      <th>FlightNumber</th>\n      <th>Date</th>\n      <th>BoosterVersion</th>\n      <th>PayloadMass</th>\n      <th>Orbit</th>\n      <th>LaunchSite</th>\n      <th>Outcome</th>\n      <th>Flights</th>\n      <th>GridFins</th>\n      <th>Reused</th>\n      <th>Legs</th>\n      <th>LandingPad</th>\n      <th>Block</th>\n      <th>ReusedCount</th>\n      <th>Serial</th>\n      <th>Longitude</th>\n      <th>Latitude</th>\n    </tr>\n  </thead>\n  <tbody>\n    <tr>\n      <th>4</th>\n      <td>6</td>\n      <td>2010-06-04</td>\n      <td>Falcon 9</td>\n      <td>NaN</td>\n      <td>LEO</td>\n      <td>CCSFS SLC 40</td>\n      <td>None None</td>\n      <td>1</td>\n      <td>False</td>\n      <td>False</td>\n      <td>False</td>\n      <td>None</td>\n      <td>1.0</td>\n      <td>0</td>\n      <td>B0003</td>\n      <td>-80.577366</td>\n      <td>28.561857</td>\n    </tr>\n    <tr>\n      <th>5</th>\n      <td>8</td>\n      <td>2012-05-22</td>\n      <td>Falcon 9</td>\n      <td>525.0</td>\n      <td>LEO</td>\n      <td>CCSFS SLC 40</td>\n      <td>None None</td>\n      <td>1</td>\n      <td>False</td>\n      <td>False</td>\n      <td>False</td>\n      <td>None</td>\n      <td>1.0</td>\n      <td>0</td>\n      <td>B0005</td>\n      <td>-80.577366</td>\n      <td>28.561857</td>\n    </tr>\n    <tr>\n      <th>6</th>\n      <td>10</td>\n      <td>2013-03-01</td>\n      <td>Falcon 9</td>\n      <td>677.0</td>\n      <td>ISS</td>\n      <td>CCSFS SLC 40</td>\n      <td>None None</td>\n      <td>1</td>\n      <td>False</td>\n      <td>False</td>\n      <td>False</td>\n      <td>None</td>\n      <td>1.0</td>\n      <td>0</td>\n      <td>B0007</td>\n      <td>-80.577366</td>\n      <td>28.561857</td>\n    </tr>\n    <tr>\n      <th>7</th>\n      <td>11</td>\n      <td>2013-09-29</td>\n      <td>Falcon 9</td>\n      <td>500.0</td>\n      <td>PO</td>\n      <td>VAFB SLC 4E</td>\n      <td>False Ocean</td>\n      <td>1</td>\n      <td>False</td>\n      <td>False</td>\n      <td>False</td>\n      <td>None</td>\n      <td>1.0</td>\n      <td>0</td>\n      <td>B1003</td>\n      <td>-120.610829</td>\n      <td>34.632093</td>\n    </tr>\n    <tr>\n      <th>8</th>\n      <td>12</td>\n      <td>2013-12-03</td>\n      <td>Falcon 9</td>\n      <td>3170.0</td>\n      <td>GTO</td>\n      <td>CCSFS SLC 40</td>\n      <td>None None</td>\n      <td>1</td>\n      <td>False</td>\n      <td>False</td>\n      <td>False</td>\n      <td>None</td>\n      <td>1.0</td>\n      <td>0</td>\n      <td>B1004</td>\n      <td>-80.577366</td>\n      <td>28.561857</td>\n    </tr>\n    <tr>\n      <th>9</th>\n      <td>13</td>\n      <td>2014-01-06</td>\n      <td>Falcon 9</td>\n      <td>3325.0</td>\n      <td>GTO</td>\n      <td>CCSFS SLC 40</td>\n      <td>None None</td>\n      <td>1</td>\n      <td>False</td>\n      <td>False</td>\n      <td>False</td>\n      <td>None</td>\n      <td>1.0</td>\n      <td>0</td>\n      <td>B1005</td>\n      <td>-80.577366</td>\n      <td>28.561857</td>\n    </tr>\n    <tr>\n      <th>10</th>\n      <td>14</td>\n      <td>2014-04-18</td>\n      <td>Falcon 9</td>\n      <td>2296.0</td>\n      <td>ISS</td>\n      <td>CCSFS SLC 40</td>\n      <td>True Ocean</td>\n      <td>1</td>\n      <td>False</td>\n      <td>False</td>\n      <td>True</td>\n      <td>None</td>\n      <td>1.0</td>\n      <td>0</td>\n      <td>B1006</td>\n      <td>-80.577366</td>\n      <td>28.561857</td>\n    </tr>\n    <tr>\n      <th>11</th>\n      <td>15</td>\n      <td>2014-07-14</td>\n      <td>Falcon 9</td>\n      <td>1316.0</td>\n      <td>LEO</td>\n      <td>CCSFS SLC 40</td>\n      <td>True Ocean</td>\n      <td>1</td>\n      <td>False</td>\n      <td>False</td>\n      <td>True</td>\n      <td>None</td>\n      <td>1.0</td>\n      <td>0</td>\n      <td>B1007</td>\n      <td>-80.577366</td>\n      <td>28.561857</td>\n    </tr>\n    <tr>\n      <th>12</th>\n      <td>16</td>\n      <td>2014-08-05</td>\n      <td>Falcon 9</td>\n      <td>4535.0</td>\n      <td>GTO</td>\n      <td>CCSFS SLC 40</td>\n      <td>None None</td>\n      <td>1</td>\n      <td>False</td>\n      <td>False</td>\n      <td>False</td>\n      <td>None</td>\n      <td>1.0</td>\n      <td>0</td>\n      <td>B1008</td>\n      <td>-80.577366</td>\n      <td>28.561857</td>\n    </tr>\n    <tr>\n      <th>13</th>\n      <td>17</td>\n      <td>2014-09-07</td>\n      <td>Falcon 9</td>\n      <td>4428.0</td>\n      <td>GTO</td>\n      <td>CCSFS SLC 40</td>\n      <td>None None</td>\n      <td>1</td>\n      <td>False</td>\n      <td>False</td>\n      <td>False</td>\n      <td>None</td>\n      <td>1.0</td>\n      <td>0</td>\n      <td>B1011</td>\n      <td>-80.577366</td>\n      <td>28.561857</td>\n    </tr>\n  </tbody>\n</table>\n</div>"
     },
     "metadata": {}
    }
   ]
  },
  {
   "metadata": {},
   "cell_type": "markdown",
   "source": [
    "Now that we have removed some values we should reset the FlgihtNumber column\n"
   ]
  },
  {
   "metadata": {},
   "cell_type": "code",
   "source": [
    "falcon_9_df.loc[:,'FlightNumber'] = list(range(1, falcon_9_df.shape[0]+1))\n",
    "falcon_9_df"
   ],
   "execution_count": 41,
   "outputs": [
    {
     "output_type": "stream",
     "text": "/tmp/wsuser/ipykernel_164/467614568.py:1: SettingWithCopyWarning: \nA value is trying to be set on a copy of a slice from a DataFrame.\nTry using .loc[row_indexer,col_indexer] = value instead\n\nSee the caveats in the documentation: https://pandas.pydata.org/pandas-docs/stable/user_guide/indexing.html#returning-a-view-versus-a-copy\n  falcon_9_df.loc[:,'FlightNumber'] = list(range(1, falcon_9_df.shape[0]+1))\n",
     "name": "stderr"
    },
    {
     "output_type": "execute_result",
     "execution_count": 41,
     "data": {
      "text/plain": "    FlightNumber        Date BoosterVersion  PayloadMass Orbit    LaunchSite  \\\n4              1  2010-06-04       Falcon 9          NaN   LEO  CCSFS SLC 40   \n5              2  2012-05-22       Falcon 9        525.0   LEO  CCSFS SLC 40   \n6              3  2013-03-01       Falcon 9        677.0   ISS  CCSFS SLC 40   \n7              4  2013-09-29       Falcon 9        500.0    PO   VAFB SLC 4E   \n8              5  2013-12-03       Falcon 9       3170.0   GTO  CCSFS SLC 40   \n..           ...         ...            ...          ...   ...           ...   \n89            86  2020-09-03       Falcon 9      15600.0  VLEO    KSC LC 39A   \n90            87  2020-10-06       Falcon 9      15600.0  VLEO    KSC LC 39A   \n91            88  2020-10-18       Falcon 9      15600.0  VLEO    KSC LC 39A   \n92            89  2020-10-24       Falcon 9      15600.0  VLEO  CCSFS SLC 40   \n93            90  2020-11-05       Falcon 9       3681.0   MEO  CCSFS SLC 40   \n\n        Outcome  Flights  GridFins  Reused   Legs                LandingPad  \\\n4     None None        1     False   False  False                      None   \n5     None None        1     False   False  False                      None   \n6     None None        1     False   False  False                      None   \n7   False Ocean        1     False   False  False                      None   \n8     None None        1     False   False  False                      None   \n..          ...      ...       ...     ...    ...                       ...   \n89    True ASDS        2      True    True   True  5e9e3032383ecb6bb234e7ca   \n90    True ASDS        3      True    True   True  5e9e3032383ecb6bb234e7ca   \n91    True ASDS        6      True    True   True  5e9e3032383ecb6bb234e7ca   \n92    True ASDS        3      True    True   True  5e9e3033383ecbb9e534e7cc   \n93    True ASDS        1      True   False   True  5e9e3032383ecb6bb234e7ca   \n\n    Block  ReusedCount Serial   Longitude   Latitude  \n4     1.0            0  B0003  -80.577366  28.561857  \n5     1.0            0  B0005  -80.577366  28.561857  \n6     1.0            0  B0007  -80.577366  28.561857  \n7     1.0            0  B1003 -120.610829  34.632093  \n8     1.0            0  B1004  -80.577366  28.561857  \n..    ...          ...    ...         ...        ...  \n89    5.0           12  B1060  -80.603956  28.608058  \n90    5.0           13  B1058  -80.603956  28.608058  \n91    5.0           12  B1051  -80.603956  28.608058  \n92    5.0           12  B1060  -80.577366  28.561857  \n93    5.0            8  B1062  -80.577366  28.561857  \n\n[90 rows x 17 columns]",
      "text/html": "<div>\n<style scoped>\n    .dataframe tbody tr th:only-of-type {\n        vertical-align: middle;\n    }\n\n    .dataframe tbody tr th {\n        vertical-align: top;\n    }\n\n    .dataframe thead th {\n        text-align: right;\n    }\n</style>\n<table border=\"1\" class=\"dataframe\">\n  <thead>\n    <tr style=\"text-align: right;\">\n      <th></th>\n      <th>FlightNumber</th>\n      <th>Date</th>\n      <th>BoosterVersion</th>\n      <th>PayloadMass</th>\n      <th>Orbit</th>\n      <th>LaunchSite</th>\n      <th>Outcome</th>\n      <th>Flights</th>\n      <th>GridFins</th>\n      <th>Reused</th>\n      <th>Legs</th>\n      <th>LandingPad</th>\n      <th>Block</th>\n      <th>ReusedCount</th>\n      <th>Serial</th>\n      <th>Longitude</th>\n      <th>Latitude</th>\n    </tr>\n  </thead>\n  <tbody>\n    <tr>\n      <th>4</th>\n      <td>1</td>\n      <td>2010-06-04</td>\n      <td>Falcon 9</td>\n      <td>NaN</td>\n      <td>LEO</td>\n      <td>CCSFS SLC 40</td>\n      <td>None None</td>\n      <td>1</td>\n      <td>False</td>\n      <td>False</td>\n      <td>False</td>\n      <td>None</td>\n      <td>1.0</td>\n      <td>0</td>\n      <td>B0003</td>\n      <td>-80.577366</td>\n      <td>28.561857</td>\n    </tr>\n    <tr>\n      <th>5</th>\n      <td>2</td>\n      <td>2012-05-22</td>\n      <td>Falcon 9</td>\n      <td>525.0</td>\n      <td>LEO</td>\n      <td>CCSFS SLC 40</td>\n      <td>None None</td>\n      <td>1</td>\n      <td>False</td>\n      <td>False</td>\n      <td>False</td>\n      <td>None</td>\n      <td>1.0</td>\n      <td>0</td>\n      <td>B0005</td>\n      <td>-80.577366</td>\n      <td>28.561857</td>\n    </tr>\n    <tr>\n      <th>6</th>\n      <td>3</td>\n      <td>2013-03-01</td>\n      <td>Falcon 9</td>\n      <td>677.0</td>\n      <td>ISS</td>\n      <td>CCSFS SLC 40</td>\n      <td>None None</td>\n      <td>1</td>\n      <td>False</td>\n      <td>False</td>\n      <td>False</td>\n      <td>None</td>\n      <td>1.0</td>\n      <td>0</td>\n      <td>B0007</td>\n      <td>-80.577366</td>\n      <td>28.561857</td>\n    </tr>\n    <tr>\n      <th>7</th>\n      <td>4</td>\n      <td>2013-09-29</td>\n      <td>Falcon 9</td>\n      <td>500.0</td>\n      <td>PO</td>\n      <td>VAFB SLC 4E</td>\n      <td>False Ocean</td>\n      <td>1</td>\n      <td>False</td>\n      <td>False</td>\n      <td>False</td>\n      <td>None</td>\n      <td>1.0</td>\n      <td>0</td>\n      <td>B1003</td>\n      <td>-120.610829</td>\n      <td>34.632093</td>\n    </tr>\n    <tr>\n      <th>8</th>\n      <td>5</td>\n      <td>2013-12-03</td>\n      <td>Falcon 9</td>\n      <td>3170.0</td>\n      <td>GTO</td>\n      <td>CCSFS SLC 40</td>\n      <td>None None</td>\n      <td>1</td>\n      <td>False</td>\n      <td>False</td>\n      <td>False</td>\n      <td>None</td>\n      <td>1.0</td>\n      <td>0</td>\n      <td>B1004</td>\n      <td>-80.577366</td>\n      <td>28.561857</td>\n    </tr>\n    <tr>\n      <th>...</th>\n      <td>...</td>\n      <td>...</td>\n      <td>...</td>\n      <td>...</td>\n      <td>...</td>\n      <td>...</td>\n      <td>...</td>\n      <td>...</td>\n      <td>...</td>\n      <td>...</td>\n      <td>...</td>\n      <td>...</td>\n      <td>...</td>\n      <td>...</td>\n      <td>...</td>\n      <td>...</td>\n      <td>...</td>\n    </tr>\n    <tr>\n      <th>89</th>\n      <td>86</td>\n      <td>2020-09-03</td>\n      <td>Falcon 9</td>\n      <td>15600.0</td>\n      <td>VLEO</td>\n      <td>KSC LC 39A</td>\n      <td>True ASDS</td>\n      <td>2</td>\n      <td>True</td>\n      <td>True</td>\n      <td>True</td>\n      <td>5e9e3032383ecb6bb234e7ca</td>\n      <td>5.0</td>\n      <td>12</td>\n      <td>B1060</td>\n      <td>-80.603956</td>\n      <td>28.608058</td>\n    </tr>\n    <tr>\n      <th>90</th>\n      <td>87</td>\n      <td>2020-10-06</td>\n      <td>Falcon 9</td>\n      <td>15600.0</td>\n      <td>VLEO</td>\n      <td>KSC LC 39A</td>\n      <td>True ASDS</td>\n      <td>3</td>\n      <td>True</td>\n      <td>True</td>\n      <td>True</td>\n      <td>5e9e3032383ecb6bb234e7ca</td>\n      <td>5.0</td>\n      <td>13</td>\n      <td>B1058</td>\n      <td>-80.603956</td>\n      <td>28.608058</td>\n    </tr>\n    <tr>\n      <th>91</th>\n      <td>88</td>\n      <td>2020-10-18</td>\n      <td>Falcon 9</td>\n      <td>15600.0</td>\n      <td>VLEO</td>\n      <td>KSC LC 39A</td>\n      <td>True ASDS</td>\n      <td>6</td>\n      <td>True</td>\n      <td>True</td>\n      <td>True</td>\n      <td>5e9e3032383ecb6bb234e7ca</td>\n      <td>5.0</td>\n      <td>12</td>\n      <td>B1051</td>\n      <td>-80.603956</td>\n      <td>28.608058</td>\n    </tr>\n    <tr>\n      <th>92</th>\n      <td>89</td>\n      <td>2020-10-24</td>\n      <td>Falcon 9</td>\n      <td>15600.0</td>\n      <td>VLEO</td>\n      <td>CCSFS SLC 40</td>\n      <td>True ASDS</td>\n      <td>3</td>\n      <td>True</td>\n      <td>True</td>\n      <td>True</td>\n      <td>5e9e3033383ecbb9e534e7cc</td>\n      <td>5.0</td>\n      <td>12</td>\n      <td>B1060</td>\n      <td>-80.577366</td>\n      <td>28.561857</td>\n    </tr>\n    <tr>\n      <th>93</th>\n      <td>90</td>\n      <td>2020-11-05</td>\n      <td>Falcon 9</td>\n      <td>3681.0</td>\n      <td>MEO</td>\n      <td>CCSFS SLC 40</td>\n      <td>True ASDS</td>\n      <td>1</td>\n      <td>True</td>\n      <td>False</td>\n      <td>True</td>\n      <td>5e9e3032383ecb6bb234e7ca</td>\n      <td>5.0</td>\n      <td>8</td>\n      <td>B1062</td>\n      <td>-80.577366</td>\n      <td>28.561857</td>\n    </tr>\n  </tbody>\n</table>\n<p>90 rows × 17 columns</p>\n</div>"
     },
     "metadata": {}
    }
   ]
  },
  {
   "metadata": {},
   "cell_type": "markdown",
   "source": [
    "## Data Wrangling\n"
   ]
  },
  {
   "metadata": {},
   "cell_type": "markdown",
   "source": [
    "We can see below that some of the rows are missing values in our dataset.\n"
   ]
  },
  {
   "metadata": {},
   "cell_type": "code",
   "source": [
    "print(falcon_9_df.isnull().sum())\n",
    "falcon_9_df.describe(include=\"all\")"
   ],
   "execution_count": 42,
   "outputs": [
    {
     "output_type": "stream",
     "text": "FlightNumber       0\nDate               0\nBoosterVersion     0\nPayloadMass        5\nOrbit              0\nLaunchSite         0\nOutcome            0\nFlights            0\nGridFins           0\nReused             0\nLegs               0\nLandingPad        26\nBlock              0\nReusedCount        0\nSerial             0\nLongitude          0\nLatitude           0\ndtype: int64\n",
     "name": "stdout"
    },
    {
     "output_type": "execute_result",
     "execution_count": 42,
     "data": {
      "text/plain": "        FlightNumber        Date BoosterVersion   PayloadMass Orbit  \\\ncount      90.000000          90             90     85.000000    90   \nunique           NaN          90              1           NaN    11   \ntop              NaN  2010-06-04       Falcon 9           NaN   GTO   \nfreq             NaN           1             90           NaN    27   \nmean       45.500000         NaN            NaN   6123.547647   NaN   \nstd        26.124701         NaN            NaN   4870.916417   NaN   \nmin         1.000000         NaN            NaN    350.000000   NaN   \n25%        23.250000         NaN            NaN   2482.000000   NaN   \n50%        45.500000         NaN            NaN   4535.000000   NaN   \n75%        67.750000         NaN            NaN   9600.000000   NaN   \nmax        90.000000         NaN            NaN  15600.000000   NaN   \n\n          LaunchSite    Outcome    Flights GridFins Reused  Legs  \\\ncount             90         90  90.000000       90     90    90   \nunique             3          8        NaN        2      2     2   \ntop     CCSFS SLC 40  True ASDS        NaN     True  False  True   \nfreq              55         41        NaN       70     53    71   \nmean             NaN        NaN   1.788889      NaN    NaN   NaN   \nstd              NaN        NaN   1.213172      NaN    NaN   NaN   \nmin              NaN        NaN   1.000000      NaN    NaN   NaN   \n25%              NaN        NaN   1.000000      NaN    NaN   NaN   \n50%              NaN        NaN   1.000000      NaN    NaN   NaN   \n75%              NaN        NaN   2.000000      NaN    NaN   NaN   \nmax              NaN        NaN   6.000000      NaN    NaN   NaN   \n\n                      LandingPad      Block  ReusedCount Serial   Longitude  \\\ncount                         64  90.000000    90.000000     90   90.000000   \nunique                         5        NaN          NaN     53         NaN   \ntop     5e9e3032383ecb6bb234e7ca        NaN          NaN  B1049         NaN   \nfreq                          35        NaN          NaN      6         NaN   \nmean                         NaN   3.500000     3.188889    NaN  -86.366477   \nstd                          NaN   1.595288     4.194417    NaN   14.149518   \nmin                          NaN   1.000000     0.000000    NaN -120.610829   \n25%                          NaN   2.000000     0.000000    NaN  -80.603956   \n50%                          NaN   4.000000     1.000000    NaN  -80.577366   \n75%                          NaN   5.000000     4.000000    NaN  -80.577366   \nmax                          NaN   5.000000    13.000000    NaN  -80.577366   \n\n         Latitude  \ncount   90.000000  \nunique        NaN  \ntop           NaN  \nfreq          NaN  \nmean    29.449963  \nstd      2.141306  \nmin     28.561857  \n25%     28.561857  \n50%     28.561857  \n75%     28.608058  \nmax     34.632093  ",
      "text/html": "<div>\n<style scoped>\n    .dataframe tbody tr th:only-of-type {\n        vertical-align: middle;\n    }\n\n    .dataframe tbody tr th {\n        vertical-align: top;\n    }\n\n    .dataframe thead th {\n        text-align: right;\n    }\n</style>\n<table border=\"1\" class=\"dataframe\">\n  <thead>\n    <tr style=\"text-align: right;\">\n      <th></th>\n      <th>FlightNumber</th>\n      <th>Date</th>\n      <th>BoosterVersion</th>\n      <th>PayloadMass</th>\n      <th>Orbit</th>\n      <th>LaunchSite</th>\n      <th>Outcome</th>\n      <th>Flights</th>\n      <th>GridFins</th>\n      <th>Reused</th>\n      <th>Legs</th>\n      <th>LandingPad</th>\n      <th>Block</th>\n      <th>ReusedCount</th>\n      <th>Serial</th>\n      <th>Longitude</th>\n      <th>Latitude</th>\n    </tr>\n  </thead>\n  <tbody>\n    <tr>\n      <th>count</th>\n      <td>90.000000</td>\n      <td>90</td>\n      <td>90</td>\n      <td>85.000000</td>\n      <td>90</td>\n      <td>90</td>\n      <td>90</td>\n      <td>90.000000</td>\n      <td>90</td>\n      <td>90</td>\n      <td>90</td>\n      <td>64</td>\n      <td>90.000000</td>\n      <td>90.000000</td>\n      <td>90</td>\n      <td>90.000000</td>\n      <td>90.000000</td>\n    </tr>\n    <tr>\n      <th>unique</th>\n      <td>NaN</td>\n      <td>90</td>\n      <td>1</td>\n      <td>NaN</td>\n      <td>11</td>\n      <td>3</td>\n      <td>8</td>\n      <td>NaN</td>\n      <td>2</td>\n      <td>2</td>\n      <td>2</td>\n      <td>5</td>\n      <td>NaN</td>\n      <td>NaN</td>\n      <td>53</td>\n      <td>NaN</td>\n      <td>NaN</td>\n    </tr>\n    <tr>\n      <th>top</th>\n      <td>NaN</td>\n      <td>2010-06-04</td>\n      <td>Falcon 9</td>\n      <td>NaN</td>\n      <td>GTO</td>\n      <td>CCSFS SLC 40</td>\n      <td>True ASDS</td>\n      <td>NaN</td>\n      <td>True</td>\n      <td>False</td>\n      <td>True</td>\n      <td>5e9e3032383ecb6bb234e7ca</td>\n      <td>NaN</td>\n      <td>NaN</td>\n      <td>B1049</td>\n      <td>NaN</td>\n      <td>NaN</td>\n    </tr>\n    <tr>\n      <th>freq</th>\n      <td>NaN</td>\n      <td>1</td>\n      <td>90</td>\n      <td>NaN</td>\n      <td>27</td>\n      <td>55</td>\n      <td>41</td>\n      <td>NaN</td>\n      <td>70</td>\n      <td>53</td>\n      <td>71</td>\n      <td>35</td>\n      <td>NaN</td>\n      <td>NaN</td>\n      <td>6</td>\n      <td>NaN</td>\n      <td>NaN</td>\n    </tr>\n    <tr>\n      <th>mean</th>\n      <td>45.500000</td>\n      <td>NaN</td>\n      <td>NaN</td>\n      <td>6123.547647</td>\n      <td>NaN</td>\n      <td>NaN</td>\n      <td>NaN</td>\n      <td>1.788889</td>\n      <td>NaN</td>\n      <td>NaN</td>\n      <td>NaN</td>\n      <td>NaN</td>\n      <td>3.500000</td>\n      <td>3.188889</td>\n      <td>NaN</td>\n      <td>-86.366477</td>\n      <td>29.449963</td>\n    </tr>\n    <tr>\n      <th>std</th>\n      <td>26.124701</td>\n      <td>NaN</td>\n      <td>NaN</td>\n      <td>4870.916417</td>\n      <td>NaN</td>\n      <td>NaN</td>\n      <td>NaN</td>\n      <td>1.213172</td>\n      <td>NaN</td>\n      <td>NaN</td>\n      <td>NaN</td>\n      <td>NaN</td>\n      <td>1.595288</td>\n      <td>4.194417</td>\n      <td>NaN</td>\n      <td>14.149518</td>\n      <td>2.141306</td>\n    </tr>\n    <tr>\n      <th>min</th>\n      <td>1.000000</td>\n      <td>NaN</td>\n      <td>NaN</td>\n      <td>350.000000</td>\n      <td>NaN</td>\n      <td>NaN</td>\n      <td>NaN</td>\n      <td>1.000000</td>\n      <td>NaN</td>\n      <td>NaN</td>\n      <td>NaN</td>\n      <td>NaN</td>\n      <td>1.000000</td>\n      <td>0.000000</td>\n      <td>NaN</td>\n      <td>-120.610829</td>\n      <td>28.561857</td>\n    </tr>\n    <tr>\n      <th>25%</th>\n      <td>23.250000</td>\n      <td>NaN</td>\n      <td>NaN</td>\n      <td>2482.000000</td>\n      <td>NaN</td>\n      <td>NaN</td>\n      <td>NaN</td>\n      <td>1.000000</td>\n      <td>NaN</td>\n      <td>NaN</td>\n      <td>NaN</td>\n      <td>NaN</td>\n      <td>2.000000</td>\n      <td>0.000000</td>\n      <td>NaN</td>\n      <td>-80.603956</td>\n      <td>28.561857</td>\n    </tr>\n    <tr>\n      <th>50%</th>\n      <td>45.500000</td>\n      <td>NaN</td>\n      <td>NaN</td>\n      <td>4535.000000</td>\n      <td>NaN</td>\n      <td>NaN</td>\n      <td>NaN</td>\n      <td>1.000000</td>\n      <td>NaN</td>\n      <td>NaN</td>\n      <td>NaN</td>\n      <td>NaN</td>\n      <td>4.000000</td>\n      <td>1.000000</td>\n      <td>NaN</td>\n      <td>-80.577366</td>\n      <td>28.561857</td>\n    </tr>\n    <tr>\n      <th>75%</th>\n      <td>67.750000</td>\n      <td>NaN</td>\n      <td>NaN</td>\n      <td>9600.000000</td>\n      <td>NaN</td>\n      <td>NaN</td>\n      <td>NaN</td>\n      <td>2.000000</td>\n      <td>NaN</td>\n      <td>NaN</td>\n      <td>NaN</td>\n      <td>NaN</td>\n      <td>5.000000</td>\n      <td>4.000000</td>\n      <td>NaN</td>\n      <td>-80.577366</td>\n      <td>28.608058</td>\n    </tr>\n    <tr>\n      <th>max</th>\n      <td>90.000000</td>\n      <td>NaN</td>\n      <td>NaN</td>\n      <td>15600.000000</td>\n      <td>NaN</td>\n      <td>NaN</td>\n      <td>NaN</td>\n      <td>6.000000</td>\n      <td>NaN</td>\n      <td>NaN</td>\n      <td>NaN</td>\n      <td>NaN</td>\n      <td>5.000000</td>\n      <td>13.000000</td>\n      <td>NaN</td>\n      <td>-80.577366</td>\n      <td>34.632093</td>\n    </tr>\n  </tbody>\n</table>\n</div>"
     },
     "metadata": {}
    }
   ]
  },
  {
   "metadata": {},
   "cell_type": "markdown",
   "source": [
    "Before we can continue we must deal with these missing values. The <code>LandingPad</code> column will retain None values to represent when landing pads were not used.\n"
   ]
  },
  {
   "metadata": {},
   "cell_type": "markdown",
   "source": [
    "### Task 3: Dealing with Missing Values\n"
   ]
  },
  {
   "metadata": {},
   "cell_type": "markdown",
   "source": [
    "Calculate below the mean for the <code>PayloadMass</code> using the <code>.mean()</code>. Then use the mean and the <code>.replace()</code> function to replace `np.nan` values in the data with the mean you calculated.\n"
   ]
  },
  {
   "metadata": {},
   "cell_type": "code",
   "source": [
    "# Calculate the mean value of PayloadMass column\n",
    "payloadmass_mean = falcon_9_df[\"PayloadMass\"].mean()\n",
    "\n",
    "falcon_9_df[\"PayloadMass\"] = falcon_9_df[\"PayloadMass\"].replace(np.NaN, payloadmass_mean)\n",
    "# Replace the np.nan values with its mean value\n"
   ],
   "execution_count": 57,
   "outputs": [
    {
     "output_type": "stream",
     "text": "/tmp/wsuser/ipykernel_164/2166858121.py:4: SettingWithCopyWarning: \nA value is trying to be set on a copy of a slice from a DataFrame.\nTry using .loc[row_indexer,col_indexer] = value instead\n\nSee the caveats in the documentation: https://pandas.pydata.org/pandas-docs/stable/user_guide/indexing.html#returning-a-view-versus-a-copy\n  falcon_9_df[\"PayloadMass\"] = falcon_9_df[\"PayloadMass\"].replace(np.NaN, payloadmass_mean)\n",
     "name": "stderr"
    }
   ]
  },
  {
   "metadata": {},
   "cell_type": "markdown",
   "source": [
    "You should see the number of missing values of the <code>PayLoadMass</code> change to zero.\n"
   ]
  },
  {
   "metadata": {},
   "cell_type": "markdown",
   "source": [
    "Now we should have no missing values in our dataset except for in <code>LandingPad</code>.\n"
   ]
  },
  {
   "metadata": {},
   "cell_type": "markdown",
   "source": [
    "We can now export it to a <b>CSV</b> for the next section,but to make the answers consistent, in the next lab we will provide data in a pre-selected date range. \n"
   ]
  },
  {
   "metadata": {},
   "cell_type": "code",
   "source": [
    "falcon_9_df.to_csv('dataset_part_1.csv', index=False)\n"
   ],
   "execution_count": 60,
   "outputs": []
  },
  {
   "metadata": {},
   "cell_type": "markdown",
   "source": [
    "## Authors\n"
   ]
  },
  {
   "metadata": {},
   "cell_type": "markdown",
   "source": [
    "<a href=\"https://www.linkedin.com/in/joseph-s-50398b136/?utm_medium=Exinfluencer&utm_source=Exinfluencer&utm_content=000026UJ&utm_term=10006555&utm_id=NA-SkillsNetwork-Channel-SkillsNetworkCoursesIBMDS0321ENSkillsNetwork865-2022-01-01\">Joseph Santarcangelo</a> has a PhD in Electrical Engineering, his research focused on using machine learning, signal processing, and computer vision to determine how videos impact human cognition. Joseph has been working for IBM since he completed his PhD. \n"
   ]
  },
  {
   "metadata": {},
   "cell_type": "markdown",
   "source": [
    "## Change Log\n"
   ]
  },
  {
   "metadata": {},
   "cell_type": "markdown",
   "source": [
    "|Date (YYYY-MM-DD)|Version|Changed By|Change Description|\n",
    "|-|-|-|-|\n",
    "|2020-09-20|1.1|Joseph|get result each time you run|\n",
    "|2020-09-20|1.1|Azim |Created Part 1 Lab using SpaceX API|\n",
    "|2020-09-20|1.0|Joseph |Modified Multiple Areas|\n"
   ]
  },
  {
   "metadata": {},
   "cell_type": "markdown",
   "source": [
    "Copyright © 2021 IBM Corporation. All rights reserved.\n"
   ]
  }
 ],
 "metadata": {
  "kernelspec": {
   "name": "python3",
   "display_name": "Python 3.10",
   "language": "python"
  },
  "language_info": {
   "name": "python",
   "version": "3.10.6",
   "mimetype": "text/x-python",
   "codemirror_mode": {
    "name": "ipython",
    "version": 3
   },
   "pygments_lexer": "ipython3",
   "nbconvert_exporter": "python",
   "file_extension": ".py"
  }
 },
 "nbformat": 4,
 "nbformat_minor": 4
}
