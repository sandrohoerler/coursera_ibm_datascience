{
    "cells": [
        {
            "cell_type": "markdown",
            "metadata": {
                "collapsed": true
            },
            "source": "# Covid 19 Data - Population"
        },
        {
            "cell_type": "code",
            "execution_count": 3,
            "metadata": {},
            "outputs": [
                {
                    "data": {
                        "text/html": "<div>\n<style scoped>\n    .dataframe tbody tr th:only-of-type {\n        vertical-align: middle;\n    }\n\n    .dataframe tbody tr th {\n        vertical-align: top;\n    }\n\n    .dataframe thead th {\n        text-align: right;\n    }\n</style>\n<table border=\"1\" class=\"dataframe\">\n  <thead>\n    <tr style=\"text-align: right;\">\n      <th></th>\n      <th>geoRegion</th>\n      <th>ageRange</th>\n      <th>sex</th>\n      <th>pop</th>\n    </tr>\n  </thead>\n  <tbody>\n    <tr>\n      <th>0</th>\n      <td>AG</td>\n      <td>0 - 9</td>\n      <td>male</td>\n      <td>37362</td>\n    </tr>\n    <tr>\n      <th>1</th>\n      <td>AG</td>\n      <td>0 - 9</td>\n      <td>female</td>\n      <td>34831</td>\n    </tr>\n    <tr>\n      <th>2</th>\n      <td>AG</td>\n      <td>10 - 19</td>\n      <td>male</td>\n      <td>35144</td>\n    </tr>\n    <tr>\n      <th>3</th>\n      <td>AG</td>\n      <td>10 - 19</td>\n      <td>female</td>\n      <td>33106</td>\n    </tr>\n    <tr>\n      <th>4</th>\n      <td>AG</td>\n      <td>20 - 29</td>\n      <td>male</td>\n      <td>41439</td>\n    </tr>\n  </tbody>\n</table>\n</div>",
                        "text/plain": "  geoRegion ageRange     sex    pop\n0        AG    0 - 9    male  37362\n1        AG    0 - 9  female  34831\n2        AG  10 - 19    male  35144\n3        AG  10 - 19  female  33106\n4        AG  20 - 29    male  41439"
                    },
                    "execution_count": 3,
                    "metadata": {},
                    "output_type": "execute_result"
                }
            ],
            "source": "# The code was removed by Watson Studio for sharing."
        },
        {
            "cell_type": "code",
            "execution_count": null,
            "metadata": {},
            "outputs": [],
            "source": ""
        }
    ],
    "metadata": {
        "kernelspec": {
            "display_name": "Python 3.9",
            "language": "python",
            "name": "python3"
        },
        "language_info": {
            "codemirror_mode": {
                "name": "ipython",
                "version": 3
            },
            "file_extension": ".py",
            "mimetype": "text/x-python",
            "name": "python",
            "nbconvert_exporter": "python",
            "pygments_lexer": "ipython3",
            "version": "3.9.7"
        }
    },
    "nbformat": 4,
    "nbformat_minor": 1
}